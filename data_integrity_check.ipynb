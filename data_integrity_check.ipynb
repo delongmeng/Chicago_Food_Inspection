{
 "cells": [
  {
   "cell_type": "markdown",
   "metadata": {
    "collapsed": true,
    "pycharm": {
     "name": "#%% md\n"
    }
   },
   "source": [
    "# Data Integrity Check and Comparison"
   ]
  },
  {
   "cell_type": "markdown",
   "metadata": {
    "pycharm": {
     "name": "#%%\n"
    }
   },
   "source": [
    "## 1. Connect to the database:\n",
    "Connect to the database using SQLite"
   ]
  },
  {
   "cell_type": "code",
   "execution_count": 1,
   "metadata": {},
   "outputs": [],
   "source": [
    "import pandas as pd\n",
    "import sqlite3\n",
    "con = sqlite3.connect(\"data/db/food_inspections.db\")"
   ]
  },
  {
   "cell_type": "markdown",
   "metadata": {
    "pycharm": {
     "name": "#%% md\n"
    }
   },
   "source": [
    "Check the tables in the database"
   ]
  },
  {
   "cell_type": "code",
   "execution_count": 2,
   "outputs": [
    {
     "data": {
      "text/plain": "  id                 name_dba                 name_aka license_id  \\\n0  0     #1 CHINA EXPRESS LTD    #1 CHINA EXPRESS  LTD    1869616   \n1  1             #1 CHOP SUEY             #1 CHOP SUEY    2042372   \n2  2             #1 CHOP SUEY             #1 CHOP SUEY    1970042   \n3  3  #1 CHOP SUEY RESTAURANT  #1 CHOP SUEY RESTAURANT    1739799   \n4  4              #1 DELI INC              31 DELI INC    2501188   \n\n  facility_type                address    zip  \n0    restaurant   4248 S WENTWORTH AVE  60609  \n1    restaurant         1907 W 87TH ST  60620  \n2    restaurant  4307 W IRVING PARK RD  60641  \n3    restaurant  4307 W IRVING PARK RD  60641  \n4       grocery     6901 S NORMAL BLVD  60621  ",
      "text/html": "<div>\n<style scoped>\n    .dataframe tbody tr th:only-of-type {\n        vertical-align: middle;\n    }\n\n    .dataframe tbody tr th {\n        vertical-align: top;\n    }\n\n    .dataframe thead th {\n        text-align: right;\n    }\n</style>\n<table border=\"1\" class=\"dataframe\">\n  <thead>\n    <tr style=\"text-align: right;\">\n      <th></th>\n      <th>id</th>\n      <th>name_dba</th>\n      <th>name_aka</th>\n      <th>license_id</th>\n      <th>facility_type</th>\n      <th>address</th>\n      <th>zip</th>\n    </tr>\n  </thead>\n  <tbody>\n    <tr>\n      <th>0</th>\n      <td>0</td>\n      <td>#1 CHINA EXPRESS LTD</td>\n      <td>#1 CHINA EXPRESS  LTD</td>\n      <td>1869616</td>\n      <td>restaurant</td>\n      <td>4248 S WENTWORTH AVE</td>\n      <td>60609</td>\n    </tr>\n    <tr>\n      <th>1</th>\n      <td>1</td>\n      <td>#1 CHOP SUEY</td>\n      <td>#1 CHOP SUEY</td>\n      <td>2042372</td>\n      <td>restaurant</td>\n      <td>1907 W 87TH ST</td>\n      <td>60620</td>\n    </tr>\n    <tr>\n      <th>2</th>\n      <td>2</td>\n      <td>#1 CHOP SUEY</td>\n      <td>#1 CHOP SUEY</td>\n      <td>1970042</td>\n      <td>restaurant</td>\n      <td>4307 W IRVING PARK RD</td>\n      <td>60641</td>\n    </tr>\n    <tr>\n      <th>3</th>\n      <td>3</td>\n      <td>#1 CHOP SUEY RESTAURANT</td>\n      <td>#1 CHOP SUEY RESTAURANT</td>\n      <td>1739799</td>\n      <td>restaurant</td>\n      <td>4307 W IRVING PARK RD</td>\n      <td>60641</td>\n    </tr>\n    <tr>\n      <th>4</th>\n      <td>4</td>\n      <td>#1 DELI INC</td>\n      <td>31 DELI INC</td>\n      <td>2501188</td>\n      <td>grocery</td>\n      <td>6901 S NORMAL BLVD</td>\n      <td>60621</td>\n    </tr>\n  </tbody>\n</table>\n</div>"
     },
     "execution_count": 2,
     "metadata": {},
     "output_type": "execute_result"
    }
   ],
   "source": [
    "facility_test = pd.read_sql_query('select * from facility limit 5;', con)\n",
    "facility_test"
   ],
   "metadata": {
    "collapsed": false,
    "pycharm": {
     "name": "#%%\n"
    }
   }
  },
  {
   "cell_type": "code",
   "execution_count": 3,
   "metadata": {},
   "outputs": [
    {
     "data": {
      "text/plain": "                     street    zip     city state   latitude  longitude\n0        2121 S PRAIRIE AVE  60616  CHICAGO    IL  41.853651 -87.620534\n1         1025 W MADISON ST  60607  CHICAGO    IL  41.881572 -87.653052\n2          301 N JUSTINE ST  60607  CHICAGO    IL  41.886577 -87.665328\n3       2245 N MCVICKER AVE  60639  CHICAGO    IL  41.921675 -87.776711\n4  4355 S COTTAGE GROVE AVE  60653  CHICAGO    IL  41.815197 -87.606531",
      "text/html": "<div>\n<style scoped>\n    .dataframe tbody tr th:only-of-type {\n        vertical-align: middle;\n    }\n\n    .dataframe tbody tr th {\n        vertical-align: top;\n    }\n\n    .dataframe thead th {\n        text-align: right;\n    }\n</style>\n<table border=\"1\" class=\"dataframe\">\n  <thead>\n    <tr style=\"text-align: right;\">\n      <th></th>\n      <th>street</th>\n      <th>zip</th>\n      <th>city</th>\n      <th>state</th>\n      <th>latitude</th>\n      <th>longitude</th>\n    </tr>\n  </thead>\n  <tbody>\n    <tr>\n      <th>0</th>\n      <td>2121 S PRAIRIE AVE</td>\n      <td>60616</td>\n      <td>CHICAGO</td>\n      <td>IL</td>\n      <td>41.853651</td>\n      <td>-87.620534</td>\n    </tr>\n    <tr>\n      <th>1</th>\n      <td>1025 W MADISON ST</td>\n      <td>60607</td>\n      <td>CHICAGO</td>\n      <td>IL</td>\n      <td>41.881572</td>\n      <td>-87.653052</td>\n    </tr>\n    <tr>\n      <th>2</th>\n      <td>301 N JUSTINE ST</td>\n      <td>60607</td>\n      <td>CHICAGO</td>\n      <td>IL</td>\n      <td>41.886577</td>\n      <td>-87.665328</td>\n    </tr>\n    <tr>\n      <th>3</th>\n      <td>2245 N MCVICKER AVE</td>\n      <td>60639</td>\n      <td>CHICAGO</td>\n      <td>IL</td>\n      <td>41.921675</td>\n      <td>-87.776711</td>\n    </tr>\n    <tr>\n      <th>4</th>\n      <td>4355 S COTTAGE GROVE AVE</td>\n      <td>60653</td>\n      <td>CHICAGO</td>\n      <td>IL</td>\n      <td>41.815197</td>\n      <td>-87.606531</td>\n    </tr>\n  </tbody>\n</table>\n</div>"
     },
     "execution_count": 3,
     "metadata": {},
     "output_type": "execute_result"
    }
   ],
   "source": [
    "address_test = pd.read_sql_query('select * from address limit 5;', con)\n",
    "address_test"
   ]
  },
  {
   "cell_type": "code",
   "execution_count": 4,
   "metadata": {},
   "outputs": [
    {
     "data": {
      "text/plain": "  code   level\n0    0     All\n1    1    High\n2    2  Medium\n3    3     Low",
      "text/html": "<div>\n<style scoped>\n    .dataframe tbody tr th:only-of-type {\n        vertical-align: middle;\n    }\n\n    .dataframe tbody tr th {\n        vertical-align: top;\n    }\n\n    .dataframe thead th {\n        text-align: right;\n    }\n</style>\n<table border=\"1\" class=\"dataframe\">\n  <thead>\n    <tr style=\"text-align: right;\">\n      <th></th>\n      <th>code</th>\n      <th>level</th>\n    </tr>\n  </thead>\n  <tbody>\n    <tr>\n      <th>0</th>\n      <td>0</td>\n      <td>All</td>\n    </tr>\n    <tr>\n      <th>1</th>\n      <td>1</td>\n      <td>High</td>\n    </tr>\n    <tr>\n      <th>2</th>\n      <td>2</td>\n      <td>Medium</td>\n    </tr>\n    <tr>\n      <th>3</th>\n      <td>3</td>\n      <td>Low</td>\n    </tr>\n  </tbody>\n</table>\n</div>"
     },
     "execution_count": 4,
     "metadata": {},
     "output_type": "execute_result"
    }
   ],
   "source": [
    "risk_test = pd.read_sql_query('select * from risk;', con)\n",
    "risk_test"
   ]
  },
  {
   "cell_type": "code",
   "execution_count": 5,
   "metadata": {},
   "outputs": [
    {
     "data": {
      "text/plain": "  facility_id risk_code\n0           0         1\n1           1         1\n2           2         1\n3           3         1\n4           4         2",
      "text/html": "<div>\n<style scoped>\n    .dataframe tbody tr th:only-of-type {\n        vertical-align: middle;\n    }\n\n    .dataframe tbody tr th {\n        vertical-align: top;\n    }\n\n    .dataframe thead th {\n        text-align: right;\n    }\n</style>\n<table border=\"1\" class=\"dataframe\">\n  <thead>\n    <tr style=\"text-align: right;\">\n      <th></th>\n      <th>facility_id</th>\n      <th>risk_code</th>\n    </tr>\n  </thead>\n  <tbody>\n    <tr>\n      <th>0</th>\n      <td>0</td>\n      <td>1</td>\n    </tr>\n    <tr>\n      <th>1</th>\n      <td>1</td>\n      <td>1</td>\n    </tr>\n    <tr>\n      <th>2</th>\n      <td>2</td>\n      <td>1</td>\n    </tr>\n    <tr>\n      <th>3</th>\n      <td>3</td>\n      <td>1</td>\n    </tr>\n    <tr>\n      <th>4</th>\n      <td>4</td>\n      <td>2</td>\n    </tr>\n  </tbody>\n</table>\n</div>"
     },
     "execution_count": 5,
     "metadata": {},
     "output_type": "execute_result"
    }
   ],
   "source": [
    "facility_risk_test = pd.read_sql_query('select * from facility_risk limit 5;', con)\n",
    "facility_risk_test"
   ]
  },
  {
   "cell_type": "code",
   "execution_count": 6,
   "metadata": {},
   "outputs": [
    {
     "data": {
      "text/plain": "      id        date                   type result\n0  67732  2010-01-04  license re-inspection   Pass\n1  67733  2010-01-04  license re-inspection   Pass\n2  52234  2010-01-04  license re-inspection   Pass\n3  67757  2010-01-04            tag removal   Pass\n4  70269  2010-01-04  license re-inspection   Pass",
      "text/html": "<div>\n<style scoped>\n    .dataframe tbody tr th:only-of-type {\n        vertical-align: middle;\n    }\n\n    .dataframe tbody tr th {\n        vertical-align: top;\n    }\n\n    .dataframe thead th {\n        text-align: right;\n    }\n</style>\n<table border=\"1\" class=\"dataframe\">\n  <thead>\n    <tr style=\"text-align: right;\">\n      <th></th>\n      <th>id</th>\n      <th>date</th>\n      <th>type</th>\n      <th>result</th>\n    </tr>\n  </thead>\n  <tbody>\n    <tr>\n      <th>0</th>\n      <td>67732</td>\n      <td>2010-01-04</td>\n      <td>license re-inspection</td>\n      <td>Pass</td>\n    </tr>\n    <tr>\n      <th>1</th>\n      <td>67733</td>\n      <td>2010-01-04</td>\n      <td>license re-inspection</td>\n      <td>Pass</td>\n    </tr>\n    <tr>\n      <th>2</th>\n      <td>52234</td>\n      <td>2010-01-04</td>\n      <td>license re-inspection</td>\n      <td>Pass</td>\n    </tr>\n    <tr>\n      <th>3</th>\n      <td>67757</td>\n      <td>2010-01-04</td>\n      <td>tag removal</td>\n      <td>Pass</td>\n    </tr>\n    <tr>\n      <th>4</th>\n      <td>70269</td>\n      <td>2010-01-04</td>\n      <td>license re-inspection</td>\n      <td>Pass</td>\n    </tr>\n  </tbody>\n</table>\n</div>"
     },
     "execution_count": 6,
     "metadata": {},
     "output_type": "execute_result"
    }
   ],
   "source": [
    "inspection_test = pd.read_sql_query('select * from inspection limit 5;', con)\n",
    "inspection_test"
   ]
  },
  {
   "cell_type": "code",
   "execution_count": 7,
   "metadata": {},
   "outputs": [
    {
     "data": {
      "text/plain": "  facility_id inspection_id\n0           0        467259\n1           0       1285263\n2           1       1296904\n3           1       1395782\n4           1        277104",
      "text/html": "<div>\n<style scoped>\n    .dataframe tbody tr th:only-of-type {\n        vertical-align: middle;\n    }\n\n    .dataframe tbody tr th {\n        vertical-align: top;\n    }\n\n    .dataframe thead th {\n        text-align: right;\n    }\n</style>\n<table border=\"1\" class=\"dataframe\">\n  <thead>\n    <tr style=\"text-align: right;\">\n      <th></th>\n      <th>facility_id</th>\n      <th>inspection_id</th>\n    </tr>\n  </thead>\n  <tbody>\n    <tr>\n      <th>0</th>\n      <td>0</td>\n      <td>467259</td>\n    </tr>\n    <tr>\n      <th>1</th>\n      <td>0</td>\n      <td>1285263</td>\n    </tr>\n    <tr>\n      <th>2</th>\n      <td>1</td>\n      <td>1296904</td>\n    </tr>\n    <tr>\n      <th>3</th>\n      <td>1</td>\n      <td>1395782</td>\n    </tr>\n    <tr>\n      <th>4</th>\n      <td>1</td>\n      <td>277104</td>\n    </tr>\n  </tbody>\n</table>\n</div>"
     },
     "execution_count": 7,
     "metadata": {},
     "output_type": "execute_result"
    }
   ],
   "source": [
    "facility_inspection_test = pd.read_sql_query('select * from facility_inspection limit 5;', con)\n",
    "facility_inspection_test"
   ]
  },
  {
   "cell_type": "code",
   "execution_count": 8,
   "metadata": {},
   "outputs": [
    {
     "data": {
      "text/plain": "  code                                        description\n0    1  SOURCE SOUND CONDITION, NO SPOILAGE, FOODS PRO...\n1    2          FACILITIES TO MAINTAIN PROPER TEMPERATURE\n2    3  POTENTIALLY HAZARDOUS FOOD MEETS TEMPERATURE R...\n3    4  SOURCE OF CROSS CONTAMINATION CONTROLLED I.E. ...\n4    5  PERSONNEL WITH INFECTIONS RESTRICTED: NO OPEN ...",
      "text/html": "<div>\n<style scoped>\n    .dataframe tbody tr th:only-of-type {\n        vertical-align: middle;\n    }\n\n    .dataframe tbody tr th {\n        vertical-align: top;\n    }\n\n    .dataframe thead th {\n        text-align: right;\n    }\n</style>\n<table border=\"1\" class=\"dataframe\">\n  <thead>\n    <tr style=\"text-align: right;\">\n      <th></th>\n      <th>code</th>\n      <th>description</th>\n    </tr>\n  </thead>\n  <tbody>\n    <tr>\n      <th>0</th>\n      <td>1</td>\n      <td>SOURCE SOUND CONDITION, NO SPOILAGE, FOODS PRO...</td>\n    </tr>\n    <tr>\n      <th>1</th>\n      <td>2</td>\n      <td>FACILITIES TO MAINTAIN PROPER TEMPERATURE</td>\n    </tr>\n    <tr>\n      <th>2</th>\n      <td>3</td>\n      <td>POTENTIALLY HAZARDOUS FOOD MEETS TEMPERATURE R...</td>\n    </tr>\n    <tr>\n      <th>3</th>\n      <td>4</td>\n      <td>SOURCE OF CROSS CONTAMINATION CONTROLLED I.E. ...</td>\n    </tr>\n    <tr>\n      <th>4</th>\n      <td>5</td>\n      <td>PERSONNEL WITH INFECTIONS RESTRICTED: NO OPEN ...</td>\n    </tr>\n  </tbody>\n</table>\n</div>"
     },
     "execution_count": 8,
     "metadata": {},
     "output_type": "execute_result"
    }
   ],
   "source": [
    "violation_test = pd.read_sql_query('select * from violation limit 5;', con)\n",
    "violation_test"
   ]
  },
  {
   "cell_type": "code",
   "execution_count": 9,
   "metadata": {},
   "outputs": [
    {
     "data": {
      "text/plain": "  inspection_id violation_code  \\\n0         44247             30   \n1         44247             32   \n2         44247             33   \n3         44247             34   \n4         44247             37   \n\n                                   violation_comment  \n0  All food not stored in the original container ...  \n1  OBSERVED TORN DOOR GASKET ON DOOR OF 'CHILL IS...  \n2  All food and non-food contact surfaces of equi...  \n3  The floors shall be constructed per code, be s...  \n4  Toilet rooms shall be completely enclosed and ...  ",
      "text/html": "<div>\n<style scoped>\n    .dataframe tbody tr th:only-of-type {\n        vertical-align: middle;\n    }\n\n    .dataframe tbody tr th {\n        vertical-align: top;\n    }\n\n    .dataframe thead th {\n        text-align: right;\n    }\n</style>\n<table border=\"1\" class=\"dataframe\">\n  <thead>\n    <tr style=\"text-align: right;\">\n      <th></th>\n      <th>inspection_id</th>\n      <th>violation_code</th>\n      <th>violation_comment</th>\n    </tr>\n  </thead>\n  <tbody>\n    <tr>\n      <th>0</th>\n      <td>44247</td>\n      <td>30</td>\n      <td>All food not stored in the original container ...</td>\n    </tr>\n    <tr>\n      <th>1</th>\n      <td>44247</td>\n      <td>32</td>\n      <td>OBSERVED TORN DOOR GASKET ON DOOR OF 'CHILL IS...</td>\n    </tr>\n    <tr>\n      <th>2</th>\n      <td>44247</td>\n      <td>33</td>\n      <td>All food and non-food contact surfaces of equi...</td>\n    </tr>\n    <tr>\n      <th>3</th>\n      <td>44247</td>\n      <td>34</td>\n      <td>The floors shall be constructed per code, be s...</td>\n    </tr>\n    <tr>\n      <th>4</th>\n      <td>44247</td>\n      <td>37</td>\n      <td>Toilet rooms shall be completely enclosed and ...</td>\n    </tr>\n  </tbody>\n</table>\n</div>"
     },
     "execution_count": 9,
     "metadata": {},
     "output_type": "execute_result"
    }
   ],
   "source": [
    "inspection_violation_test = pd.read_sql_query('select * from inspection_violation limit 5;', con)\n",
    "inspection_violation_test"
   ]
  },
  {
   "cell_type": "markdown",
   "source": [
    "## 2. Comparison and Integrity Check\n",
    "\n",
    "This section compares the cleaned data with the original data."
   ],
   "metadata": {
    "collapsed": false,
    "pycharm": {
     "name": "#%% md\n"
    }
   }
  },
  {
   "cell_type": "markdown",
   "metadata": {
    "pycharm": {
     "name": "#%% md\n"
    }
   },
   "source": [
    "First, we need to load the original data."
   ]
  },
  {
   "cell_type": "code",
   "execution_count": 10,
   "metadata": {},
   "outputs": [
    {
     "data": {
      "text/plain": "   Inspection ID                 DBA Name                 AKA Name  License #  \\\n0        2079132  MARRIOT MARQUIS CHICAGO  MARRIOT MARQUIS CHICAGO  2517328.0   \n1        2079129              JET'S PIZZA              JET'S PIZZA  2522268.0   \n2        2079125                ROOM 1520                ROOM 1520  2446638.0   \n3        2079123  MARRIOT MARQUIS CHICAGO  MARRIOT MARQUIS CHICAGO  2517338.0   \n4        2079105               CHARTWELLS  CICS WEST BELDEN CAMPUS  2549079.0   \n\n    Facility Type             Risk               Address     City State  \\\n0      Restaurant    Risk 1 (High)   2121 S PRAIRIE AVE   CHICAGO    IL   \n1      Restaurant  Risk 2 (Medium)    1025 W MADISON ST   CHICAGO    IL   \n2   Special Event     Risk 3 (Low)     301 N JUSTINE ST   CHICAGO    IL   \n3      Restaurant    Risk 1 (High)   2121 S PRAIRIE AVE   CHICAGO    IL   \n4  CHARTER SCHOOL    Risk 1 (High)  2245 N MCVICKER AVE   CHICAGO    IL   \n\n       Zip Inspection Date        Inspection Type    Results  \\\n0  60616.0      08/28/2017                License       Pass   \n1  60607.0      08/28/2017                License  Not Ready   \n2  60607.0      08/28/2017  License Re-Inspection  Not Ready   \n3  60616.0      08/28/2017                License       Pass   \n4  60639.0      08/28/2017  License Re-Inspection       Pass   \n\n                                          Violations   Latitude  Longitude  \\\n0                                                NaN  41.853651 -87.620534   \n1                                                NaN  41.881572 -87.653052   \n2  8. SANITIZING RINSE FOR EQUIPMENT AND UTENSILS...  41.886577 -87.665328   \n3  35. WALLS, CEILINGS, ATTACHED EQUIPMENT CONSTR...  41.853651 -87.620534   \n4  18. NO EVIDENCE OF RODENT OR INSECT OUTER OPEN...  41.921675 -87.776711   \n\n                                   Location  \n0  (41.853650885040594, -87.62053358114167)  \n1   (41.88157249576794, -87.65305233593274)  \n2   (41.88657652150854, -87.66532812140231)  \n3  (41.853650885040594, -87.62053358114167)  \n4   (41.921675488910864, -87.7767113569357)  ",
      "text/html": "<div>\n<style scoped>\n    .dataframe tbody tr th:only-of-type {\n        vertical-align: middle;\n    }\n\n    .dataframe tbody tr th {\n        vertical-align: top;\n    }\n\n    .dataframe thead th {\n        text-align: right;\n    }\n</style>\n<table border=\"1\" class=\"dataframe\">\n  <thead>\n    <tr style=\"text-align: right;\">\n      <th></th>\n      <th>Inspection ID</th>\n      <th>DBA Name</th>\n      <th>AKA Name</th>\n      <th>License #</th>\n      <th>Facility Type</th>\n      <th>Risk</th>\n      <th>Address</th>\n      <th>City</th>\n      <th>State</th>\n      <th>Zip</th>\n      <th>Inspection Date</th>\n      <th>Inspection Type</th>\n      <th>Results</th>\n      <th>Violations</th>\n      <th>Latitude</th>\n      <th>Longitude</th>\n      <th>Location</th>\n    </tr>\n  </thead>\n  <tbody>\n    <tr>\n      <th>0</th>\n      <td>2079132</td>\n      <td>MARRIOT MARQUIS CHICAGO</td>\n      <td>MARRIOT MARQUIS CHICAGO</td>\n      <td>2517328.0</td>\n      <td>Restaurant</td>\n      <td>Risk 1 (High)</td>\n      <td>2121 S PRAIRIE AVE</td>\n      <td>CHICAGO</td>\n      <td>IL</td>\n      <td>60616.0</td>\n      <td>08/28/2017</td>\n      <td>License</td>\n      <td>Pass</td>\n      <td>NaN</td>\n      <td>41.853651</td>\n      <td>-87.620534</td>\n      <td>(41.853650885040594, -87.62053358114167)</td>\n    </tr>\n    <tr>\n      <th>1</th>\n      <td>2079129</td>\n      <td>JET'S PIZZA</td>\n      <td>JET'S PIZZA</td>\n      <td>2522268.0</td>\n      <td>Restaurant</td>\n      <td>Risk 2 (Medium)</td>\n      <td>1025 W MADISON ST</td>\n      <td>CHICAGO</td>\n      <td>IL</td>\n      <td>60607.0</td>\n      <td>08/28/2017</td>\n      <td>License</td>\n      <td>Not Ready</td>\n      <td>NaN</td>\n      <td>41.881572</td>\n      <td>-87.653052</td>\n      <td>(41.88157249576794, -87.65305233593274)</td>\n    </tr>\n    <tr>\n      <th>2</th>\n      <td>2079125</td>\n      <td>ROOM 1520</td>\n      <td>ROOM 1520</td>\n      <td>2446638.0</td>\n      <td>Special Event</td>\n      <td>Risk 3 (Low)</td>\n      <td>301 N JUSTINE ST</td>\n      <td>CHICAGO</td>\n      <td>IL</td>\n      <td>60607.0</td>\n      <td>08/28/2017</td>\n      <td>License Re-Inspection</td>\n      <td>Not Ready</td>\n      <td>8. SANITIZING RINSE FOR EQUIPMENT AND UTENSILS...</td>\n      <td>41.886577</td>\n      <td>-87.665328</td>\n      <td>(41.88657652150854, -87.66532812140231)</td>\n    </tr>\n    <tr>\n      <th>3</th>\n      <td>2079123</td>\n      <td>MARRIOT MARQUIS CHICAGO</td>\n      <td>MARRIOT MARQUIS CHICAGO</td>\n      <td>2517338.0</td>\n      <td>Restaurant</td>\n      <td>Risk 1 (High)</td>\n      <td>2121 S PRAIRIE AVE</td>\n      <td>CHICAGO</td>\n      <td>IL</td>\n      <td>60616.0</td>\n      <td>08/28/2017</td>\n      <td>License</td>\n      <td>Pass</td>\n      <td>35. WALLS, CEILINGS, ATTACHED EQUIPMENT CONSTR...</td>\n      <td>41.853651</td>\n      <td>-87.620534</td>\n      <td>(41.853650885040594, -87.62053358114167)</td>\n    </tr>\n    <tr>\n      <th>4</th>\n      <td>2079105</td>\n      <td>CHARTWELLS</td>\n      <td>CICS WEST BELDEN CAMPUS</td>\n      <td>2549079.0</td>\n      <td>CHARTER SCHOOL</td>\n      <td>Risk 1 (High)</td>\n      <td>2245 N MCVICKER AVE</td>\n      <td>CHICAGO</td>\n      <td>IL</td>\n      <td>60639.0</td>\n      <td>08/28/2017</td>\n      <td>License Re-Inspection</td>\n      <td>Pass</td>\n      <td>18. NO EVIDENCE OF RODENT OR INSECT OUTER OPEN...</td>\n      <td>41.921675</td>\n      <td>-87.776711</td>\n      <td>(41.921675488910864, -87.7767113569357)</td>\n    </tr>\n  </tbody>\n</table>\n</div>"
     },
     "execution_count": 10,
     "metadata": {},
     "output_type": "execute_result"
    }
   ],
   "source": [
    "orig_data = pd.read_csv(\"data/original/Food_Inspections.csv\")\n",
    "orig_data.head()\n"
   ]
  },
  {
   "cell_type": "markdown",
   "metadata": {
    "pycharm": {
     "name": "#%% md\n"
    }
   },
   "source": [
    "### 2.1. Address Integrity Check\n",
    "#### 2.1.1. City\n",
    "The original data have un-uniformed format , and have lots of invalid city names such as 'CCHICAGO', 'CHICAGOCHICAGO', 'CHCHICAGO', 'CHICAGOI', 'CHCICAGO', '312CHICAGO'."
   ]
  },
  {
   "cell_type": "code",
   "execution_count": 11,
   "metadata": {},
   "outputs": [
    {
     "data": {
      "text/plain": "CHICAGO                 153090\nChicago                    258\nchicago                     77\nCCHICAGO                    39\nSCHAUMBURG                  18\nMAYWOOD                     14\nELK GROVE VILLAGE           12\nCHicago                     10\nSKOKIE                       8\nINACTIVE                     8\nCHESTNUT STREET              8\nEVANSTON                     7\nCICERO                       6\nCHICAGOCHICAGO               6\nCHCHICAGO                    6\nCHARLES A HAYES              6\nWORTH                        5\nELMHURST                     5\nOAK PARK                     4\nCALUMET CITY                 4\nSUMMIT                       4\nEAST HAZEL CREST             3\nALSIP                        3\nCHICAGOI                     3\nNILES NILES                  3\nCHCICAGO                     3\nSCHILLER PARK                3\nCHICAGO HEIGHTS              2\nBERWYN                       2\nBLUE ISLAND                  2\nSTREAMWOOD                   2\nNAPERVILLE                   2\n312CHICAGO                   2\nBEDFORD PARK                 2\nBANNOCKBURNDEERFIELD         2\nBROADVIEW                    1\nLAKE ZURICH                  1\nFRANKFORT                    1\nMaywood                      1\nGLENCOE                      1\nLAKE BLUFF                   1\nOAK LAWN                     1\nalsip                        1\nOLYMPIA FIELDS               1\nBLOOMINGDALE                 1\nDES PLAINES                  1\nBURNHAM                      1\nNorridge                     1\nBOLINGBROOK                  1\nCOUNTRY CLUB HILLS           1\nLOMBARD                      1\nTINLEY PARK                  1\nJUSTICE                      1\nWESTMONT                     1\nOOLYMPIA FIELDS              1\nBRIDEVIEW                    1\nEVERGREEN PARK               1\nName: City, dtype: int64"
     },
     "execution_count": 11,
     "metadata": {},
     "output_type": "execute_result"
    }
   ],
   "source": [
    "address_city_original = orig_data['City'].value_counts()\n",
    "address_city_original"
   ]
  },
  {
   "cell_type": "markdown",
   "metadata": {
    "pycharm": {
     "name": "#%% md\n"
    }
   },
   "source": [
    "The cleaned city column have uniform upper case format.\n",
    "And invalid city names are cleaned."
   ]
  },
  {
   "cell_type": "code",
   "metadata": {
    "pycharm": {
     "name": "#%%\n"
    }
   },
   "source": [
    "address_city_integrity = pd.read_sql_query('select city from address where city != \"\" group by city;', con)\n",
    "address_city_integrity\n"
   ],
   "execution_count": 12,
   "outputs": [
    {
     "data": {
      "text/plain": "                    city\n0                  ALSIP\n1   BANNOCKBURNDEERFIELD\n2                 BERWYN\n3           BLOOMINGDALE\n4            BLUE ISLAND\n5            BOLINGBROOK\n6              BRIDEVIEW\n7              BROADVIEW\n8           CALUMET CITY\n9                CHICAGO\n10       CHICAGO HEIGHTS\n11                CICERO\n12    COUNTRY CLUB HILLS\n13           DES PLAINES\n14      EAST HAZEL CREST\n15     ELK GROVE VILLAGE\n16              ELMHURST\n17              EVANSTON\n18        EVERGREEN PARK\n19             FRANKFORT\n20               GLENCOE\n21               JUSTICE\n22            LAKE BLUFF\n23           LAKE ZURICH\n24               LOMBARD\n25               MAYWOOD\n26            NAPERVILLE\n27           NILES NILES\n28              NORRIDGE\n29              OAK LAWN\n30              OAK PARK\n31        OLYMPIA FIELDS\n32            SCHAUMBURG\n33         SCHILLER PARK\n34                SKOKIE\n35            STREAMWOOD\n36                SUMMIT\n37           TINLEY PARK\n38                 WORTH",
      "text/html": "<div>\n<style scoped>\n    .dataframe tbody tr th:only-of-type {\n        vertical-align: middle;\n    }\n\n    .dataframe tbody tr th {\n        vertical-align: top;\n    }\n\n    .dataframe thead th {\n        text-align: right;\n    }\n</style>\n<table border=\"1\" class=\"dataframe\">\n  <thead>\n    <tr style=\"text-align: right;\">\n      <th></th>\n      <th>city</th>\n    </tr>\n  </thead>\n  <tbody>\n    <tr>\n      <th>0</th>\n      <td>ALSIP</td>\n    </tr>\n    <tr>\n      <th>1</th>\n      <td>BANNOCKBURNDEERFIELD</td>\n    </tr>\n    <tr>\n      <th>2</th>\n      <td>BERWYN</td>\n    </tr>\n    <tr>\n      <th>3</th>\n      <td>BLOOMINGDALE</td>\n    </tr>\n    <tr>\n      <th>4</th>\n      <td>BLUE ISLAND</td>\n    </tr>\n    <tr>\n      <th>5</th>\n      <td>BOLINGBROOK</td>\n    </tr>\n    <tr>\n      <th>6</th>\n      <td>BRIDEVIEW</td>\n    </tr>\n    <tr>\n      <th>7</th>\n      <td>BROADVIEW</td>\n    </tr>\n    <tr>\n      <th>8</th>\n      <td>CALUMET CITY</td>\n    </tr>\n    <tr>\n      <th>9</th>\n      <td>CHICAGO</td>\n    </tr>\n    <tr>\n      <th>10</th>\n      <td>CHICAGO HEIGHTS</td>\n    </tr>\n    <tr>\n      <th>11</th>\n      <td>CICERO</td>\n    </tr>\n    <tr>\n      <th>12</th>\n      <td>COUNTRY CLUB HILLS</td>\n    </tr>\n    <tr>\n      <th>13</th>\n      <td>DES PLAINES</td>\n    </tr>\n    <tr>\n      <th>14</th>\n      <td>EAST HAZEL CREST</td>\n    </tr>\n    <tr>\n      <th>15</th>\n      <td>ELK GROVE VILLAGE</td>\n    </tr>\n    <tr>\n      <th>16</th>\n      <td>ELMHURST</td>\n    </tr>\n    <tr>\n      <th>17</th>\n      <td>EVANSTON</td>\n    </tr>\n    <tr>\n      <th>18</th>\n      <td>EVERGREEN PARK</td>\n    </tr>\n    <tr>\n      <th>19</th>\n      <td>FRANKFORT</td>\n    </tr>\n    <tr>\n      <th>20</th>\n      <td>GLENCOE</td>\n    </tr>\n    <tr>\n      <th>21</th>\n      <td>JUSTICE</td>\n    </tr>\n    <tr>\n      <th>22</th>\n      <td>LAKE BLUFF</td>\n    </tr>\n    <tr>\n      <th>23</th>\n      <td>LAKE ZURICH</td>\n    </tr>\n    <tr>\n      <th>24</th>\n      <td>LOMBARD</td>\n    </tr>\n    <tr>\n      <th>25</th>\n      <td>MAYWOOD</td>\n    </tr>\n    <tr>\n      <th>26</th>\n      <td>NAPERVILLE</td>\n    </tr>\n    <tr>\n      <th>27</th>\n      <td>NILES NILES</td>\n    </tr>\n    <tr>\n      <th>28</th>\n      <td>NORRIDGE</td>\n    </tr>\n    <tr>\n      <th>29</th>\n      <td>OAK LAWN</td>\n    </tr>\n    <tr>\n      <th>30</th>\n      <td>OAK PARK</td>\n    </tr>\n    <tr>\n      <th>31</th>\n      <td>OLYMPIA FIELDS</td>\n    </tr>\n    <tr>\n      <th>32</th>\n      <td>SCHAUMBURG</td>\n    </tr>\n    <tr>\n      <th>33</th>\n      <td>SCHILLER PARK</td>\n    </tr>\n    <tr>\n      <th>34</th>\n      <td>SKOKIE</td>\n    </tr>\n    <tr>\n      <th>35</th>\n      <td>STREAMWOOD</td>\n    </tr>\n    <tr>\n      <th>36</th>\n      <td>SUMMIT</td>\n    </tr>\n    <tr>\n      <th>37</th>\n      <td>TINLEY PARK</td>\n    </tr>\n    <tr>\n      <th>38</th>\n      <td>WORTH</td>\n    </tr>\n  </tbody>\n</table>\n</div>"
     },
     "execution_count": 12,
     "metadata": {},
     "output_type": "execute_result"
    }
   ]
  },
  {
   "cell_type": "markdown",
   "metadata": {
    "pycharm": {
     "name": "#%% md\n"
    }
   },
   "source": [
    "#### 2.1.2. Duplicate address for the same location"
   ]
  },
  {
   "cell_type": "markdown",
   "source": [
    "In the original data, there are different variations of addresses for the same location (latitude & longitude) and city/state/zip:"
   ],
   "metadata": {
    "collapsed": false
   }
  },
  {
   "cell_type": "code",
   "execution_count": 13,
   "outputs": [
    {
     "data": {
      "text/plain": "                      Address   Latitude  Longitude\n115964      1636 W Howard ST   42.019491 -87.672224\n6882        1636 W HOWARD ST   42.019491 -87.672224\n83917     1632 W howard BLDG   42.019490 -87.672057\n25889       1632 W HOWARD ST   42.019490 -87.672057\n77277      7410 N clark BLDG   42.016328 -87.675398\n...                       ...        ...        ...\n37884     12201 S HALSTED ST   41.672270 -87.641576\n136481    12760 S Halsted ST   41.661467 -87.641508\n69411     12760 S HALSTED ST   41.661467 -87.641508\n100604  13703 S Indiana BLDG   41.646554 -87.617083\n100601   13703 S INDIANA AVE   41.646554 -87.617083\n\n[1883 rows x 3 columns]",
      "text/html": "<div>\n<style scoped>\n    .dataframe tbody tr th:only-of-type {\n        vertical-align: middle;\n    }\n\n    .dataframe tbody tr th {\n        vertical-align: top;\n    }\n\n    .dataframe thead th {\n        text-align: right;\n    }\n</style>\n<table border=\"1\" class=\"dataframe\">\n  <thead>\n    <tr style=\"text-align: right;\">\n      <th></th>\n      <th>Address</th>\n      <th>Latitude</th>\n      <th>Longitude</th>\n    </tr>\n  </thead>\n  <tbody>\n    <tr>\n      <th>115964</th>\n      <td>1636 W Howard ST</td>\n      <td>42.019491</td>\n      <td>-87.672224</td>\n    </tr>\n    <tr>\n      <th>6882</th>\n      <td>1636 W HOWARD ST</td>\n      <td>42.019491</td>\n      <td>-87.672224</td>\n    </tr>\n    <tr>\n      <th>83917</th>\n      <td>1632 W howard BLDG</td>\n      <td>42.019490</td>\n      <td>-87.672057</td>\n    </tr>\n    <tr>\n      <th>25889</th>\n      <td>1632 W HOWARD ST</td>\n      <td>42.019490</td>\n      <td>-87.672057</td>\n    </tr>\n    <tr>\n      <th>77277</th>\n      <td>7410 N clark BLDG</td>\n      <td>42.016328</td>\n      <td>-87.675398</td>\n    </tr>\n    <tr>\n      <th>...</th>\n      <td>...</td>\n      <td>...</td>\n      <td>...</td>\n    </tr>\n    <tr>\n      <th>37884</th>\n      <td>12201 S HALSTED ST</td>\n      <td>41.672270</td>\n      <td>-87.641576</td>\n    </tr>\n    <tr>\n      <th>136481</th>\n      <td>12760 S Halsted ST</td>\n      <td>41.661467</td>\n      <td>-87.641508</td>\n    </tr>\n    <tr>\n      <th>69411</th>\n      <td>12760 S HALSTED ST</td>\n      <td>41.661467</td>\n      <td>-87.641508</td>\n    </tr>\n    <tr>\n      <th>100604</th>\n      <td>13703 S Indiana BLDG</td>\n      <td>41.646554</td>\n      <td>-87.617083</td>\n    </tr>\n    <tr>\n      <th>100601</th>\n      <td>13703 S INDIANA AVE</td>\n      <td>41.646554</td>\n      <td>-87.617083</td>\n    </tr>\n  </tbody>\n</table>\n<p>1883 rows × 3 columns</p>\n</div>"
     },
     "execution_count": 13,
     "metadata": {},
     "output_type": "execute_result"
    }
   ],
   "source": [
    "temp = orig_data[['Address', 'Latitude', 'Longitude']].drop_duplicates()\n",
    "address_duplicated_original = temp.groupby(\n",
    "    by=['Latitude', 'Longitude'], dropna=False)\\\n",
    "    .filter(lambda x: len(x) > 1).sort_values(by=['Latitude', 'Address'], ascending=False)\n",
    "\n",
    "address_duplicated_original\n",
    "#with pd.option_context('display.max_rows', None, 'display.max_columns', None):\n",
    "#    display(address_duplicated)"
   ],
   "metadata": {
    "collapsed": false,
    "pycharm": {
     "name": "#%%\n"
    }
   }
  },
  {
   "cell_type": "markdown",
   "metadata": {
    "pycharm": {
     "name": "#%% md\n"
    }
   },
   "source": [
    "The cleaned data shall have unique address, latitude and longitude. The following query checks if we can duplicated addresses."
   ]
  },
  {
   "cell_type": "code",
   "execution_count": 14,
   "outputs": [
    {
     "data": {
      "text/plain": "Empty DataFrame\nColumns: [street, latitude, longitude, count(*)]\nIndex: []",
      "text/html": "<div>\n<style scoped>\n    .dataframe tbody tr th:only-of-type {\n        vertical-align: middle;\n    }\n\n    .dataframe tbody tr th {\n        vertical-align: top;\n    }\n\n    .dataframe thead th {\n        text-align: right;\n    }\n</style>\n<table border=\"1\" class=\"dataframe\">\n  <thead>\n    <tr style=\"text-align: right;\">\n      <th></th>\n      <th>street</th>\n      <th>latitude</th>\n      <th>longitude</th>\n      <th>count(*)</th>\n    </tr>\n  </thead>\n  <tbody>\n  </tbody>\n</table>\n</div>"
     },
     "execution_count": 14,
     "metadata": {},
     "output_type": "execute_result"
    }
   ],
   "source": [
    "address_count_cleaned = pd.read_sql_query\\\n",
    "    ('select street, latitude, longitude, count(*) from address where latitude != \"\" group by latitude, longitude  having count(*) > 1;', con)\n",
    "address_count_cleaned\n"
   ],
   "metadata": {
    "collapsed": false,
    "pycharm": {
     "name": "#%%\n"
    }
   }
  },
  {
   "cell_type": "markdown",
   "source": [
    "#### 2.1.3. City Inference\n",
    "\n",
    "In the original data, same latitude and longitude have conflict city names.\n",
    "- Some locations have a certain city and \"NaN\". We inferred the missing NaN value for this scenario.\n",
    "- For Some locations that have conflict city names. We chose the one with a higher count.\n",
    "We inferred the missing NaN"
   ],
   "metadata": {
    "collapsed": false,
    "pycharm": {
     "name": "#%% md\n"
    }
   }
  },
  {
   "cell_type": "code",
   "execution_count": 15,
   "outputs": [
    {
     "data": {
      "text/plain": "        Latitude  Longitude      City  count\n15705  42.008536 -87.914428   CHICAGO   1874\n15706  42.008536 -87.914428       NaN     10\n15299  41.997452 -87.687581   CHICAGO      3\n15300  41.997452 -87.687581  CHICAGOI      3\n14856  41.985066 -87.668949   CHICAGO     11\n...          ...        ...       ...    ...\n1719   41.751592 -87.568606       NaN      1\n1629   41.751030 -87.613649   CHICAGO      5\n1630   41.751030 -87.613649       NaN      1\n1426   41.746236 -87.643766       NaN     12\n1425   41.746236 -87.643766   CHICAGO      1\n\n[90 rows x 4 columns]",
      "text/html": "<div>\n<style scoped>\n    .dataframe tbody tr th:only-of-type {\n        vertical-align: middle;\n    }\n\n    .dataframe tbody tr th {\n        vertical-align: top;\n    }\n\n    .dataframe thead th {\n        text-align: right;\n    }\n</style>\n<table border=\"1\" class=\"dataframe\">\n  <thead>\n    <tr style=\"text-align: right;\">\n      <th></th>\n      <th>Latitude</th>\n      <th>Longitude</th>\n      <th>City</th>\n      <th>count</th>\n    </tr>\n  </thead>\n  <tbody>\n    <tr>\n      <th>15705</th>\n      <td>42.008536</td>\n      <td>-87.914428</td>\n      <td>CHICAGO</td>\n      <td>1874</td>\n    </tr>\n    <tr>\n      <th>15706</th>\n      <td>42.008536</td>\n      <td>-87.914428</td>\n      <td>NaN</td>\n      <td>10</td>\n    </tr>\n    <tr>\n      <th>15299</th>\n      <td>41.997452</td>\n      <td>-87.687581</td>\n      <td>CHICAGO</td>\n      <td>3</td>\n    </tr>\n    <tr>\n      <th>15300</th>\n      <td>41.997452</td>\n      <td>-87.687581</td>\n      <td>CHICAGOI</td>\n      <td>3</td>\n    </tr>\n    <tr>\n      <th>14856</th>\n      <td>41.985066</td>\n      <td>-87.668949</td>\n      <td>CHICAGO</td>\n      <td>11</td>\n    </tr>\n    <tr>\n      <th>...</th>\n      <td>...</td>\n      <td>...</td>\n      <td>...</td>\n      <td>...</td>\n    </tr>\n    <tr>\n      <th>1719</th>\n      <td>41.751592</td>\n      <td>-87.568606</td>\n      <td>NaN</td>\n      <td>1</td>\n    </tr>\n    <tr>\n      <th>1629</th>\n      <td>41.751030</td>\n      <td>-87.613649</td>\n      <td>CHICAGO</td>\n      <td>5</td>\n    </tr>\n    <tr>\n      <th>1630</th>\n      <td>41.751030</td>\n      <td>-87.613649</td>\n      <td>NaN</td>\n      <td>1</td>\n    </tr>\n    <tr>\n      <th>1426</th>\n      <td>41.746236</td>\n      <td>-87.643766</td>\n      <td>NaN</td>\n      <td>12</td>\n    </tr>\n    <tr>\n      <th>1425</th>\n      <td>41.746236</td>\n      <td>-87.643766</td>\n      <td>CHICAGO</td>\n      <td>1</td>\n    </tr>\n  </tbody>\n</table>\n<p>90 rows × 4 columns</p>\n</div>"
     },
     "execution_count": 15,
     "metadata": {},
     "output_type": "execute_result"
    }
   ],
   "source": [
    "temp = orig_data.groupby(by=['Latitude', 'Longitude', 'City'], dropna=False).size().rename('count').reset_index()\n",
    "duplicated_city = temp.groupby(by=['Latitude', 'Longitude'], dropna=False)\\\n",
    "    .filter(lambda x: len(x) > 1).sort_values(by=['Latitude', 'Longitude', 'count'], ascending=False)\n",
    "duplicated_city"
   ],
   "metadata": {
    "collapsed": false,
    "pycharm": {
     "name": "#%%\n"
    }
   }
  },
  {
   "cell_type": "markdown",
   "source": [
    "The cleaned data shows no conflicts:"
   ],
   "metadata": {
    "collapsed": false,
    "pycharm": {
     "name": "#%% md\n"
    }
   }
  },
  {
   "cell_type": "code",
   "execution_count": 16,
   "outputs": [
    {
     "data": {
      "text/plain": "Empty DataFrame\nColumns: [city, latitude, longitude, count(*)]\nIndex: []",
      "text/html": "<div>\n<style scoped>\n    .dataframe tbody tr th:only-of-type {\n        vertical-align: middle;\n    }\n\n    .dataframe tbody tr th {\n        vertical-align: top;\n    }\n\n    .dataframe thead th {\n        text-align: right;\n    }\n</style>\n<table border=\"1\" class=\"dataframe\">\n  <thead>\n    <tr style=\"text-align: right;\">\n      <th></th>\n      <th>city</th>\n      <th>latitude</th>\n      <th>longitude</th>\n      <th>count(*)</th>\n    </tr>\n  </thead>\n  <tbody>\n  </tbody>\n</table>\n</div>"
     },
     "execution_count": 16,
     "metadata": {},
     "output_type": "execute_result"
    }
   ],
   "source": [
    "city_count_cleaned = pd.read_sql_query\\\n",
    "    ('select city, latitude, longitude, count(*) from address where latitude != \"\" group by latitude, longitude  having count(*) > 1;', con)\n",
    "city_count_cleaned"
   ],
   "metadata": {
    "collapsed": false,
    "pycharm": {
     "name": "#%%\n"
    }
   }
  },
  {
   "cell_type": "markdown",
   "source": [
    "#### 2.1.4. Zip code inference\n",
    "In the original data, same latitude and longitude have conflict zip codes.\n",
    "- Some locations have a certain zip and \"NaN\". We inferred the missing NaN value for this scenario.\n",
    "- For Some locations that have conflict zip numbers. We chose the one with a higher count.\n",
    "We inferred the missing NaN"
   ],
   "metadata": {
    "collapsed": false,
    "pycharm": {
     "name": "#%% md\n"
    }
   }
  },
  {
   "cell_type": "code",
   "execution_count": 17,
   "outputs": [
    {
     "data": {
      "text/plain": "        Latitude  Longitude      Zip  count\n15719  42.008536 -87.914428  60666.0   1881\n15718  42.008536 -87.914428  60606.0      3\n14556  41.977421 -87.654869  60613.0      1\n14557  41.977421 -87.654869  60640.0      1\n14446  41.975801 -87.713499  60625.0     11\n...          ...        ...      ...    ...\n1719   41.751592 -87.568606      NaN      1\n1629   41.751030 -87.613649  60619.0      5\n1630   41.751030 -87.613649      NaN      1\n7      41.648818 -87.617080  60827.0      2\n6      41.648818 -87.617080  60627.0      1\n\n[116 rows x 4 columns]",
      "text/html": "<div>\n<style scoped>\n    .dataframe tbody tr th:only-of-type {\n        vertical-align: middle;\n    }\n\n    .dataframe tbody tr th {\n        vertical-align: top;\n    }\n\n    .dataframe thead th {\n        text-align: right;\n    }\n</style>\n<table border=\"1\" class=\"dataframe\">\n  <thead>\n    <tr style=\"text-align: right;\">\n      <th></th>\n      <th>Latitude</th>\n      <th>Longitude</th>\n      <th>Zip</th>\n      <th>count</th>\n    </tr>\n  </thead>\n  <tbody>\n    <tr>\n      <th>15719</th>\n      <td>42.008536</td>\n      <td>-87.914428</td>\n      <td>60666.0</td>\n      <td>1881</td>\n    </tr>\n    <tr>\n      <th>15718</th>\n      <td>42.008536</td>\n      <td>-87.914428</td>\n      <td>60606.0</td>\n      <td>3</td>\n    </tr>\n    <tr>\n      <th>14556</th>\n      <td>41.977421</td>\n      <td>-87.654869</td>\n      <td>60613.0</td>\n      <td>1</td>\n    </tr>\n    <tr>\n      <th>14557</th>\n      <td>41.977421</td>\n      <td>-87.654869</td>\n      <td>60640.0</td>\n      <td>1</td>\n    </tr>\n    <tr>\n      <th>14446</th>\n      <td>41.975801</td>\n      <td>-87.713499</td>\n      <td>60625.0</td>\n      <td>11</td>\n    </tr>\n    <tr>\n      <th>...</th>\n      <td>...</td>\n      <td>...</td>\n      <td>...</td>\n      <td>...</td>\n    </tr>\n    <tr>\n      <th>1719</th>\n      <td>41.751592</td>\n      <td>-87.568606</td>\n      <td>NaN</td>\n      <td>1</td>\n    </tr>\n    <tr>\n      <th>1629</th>\n      <td>41.751030</td>\n      <td>-87.613649</td>\n      <td>60619.0</td>\n      <td>5</td>\n    </tr>\n    <tr>\n      <th>1630</th>\n      <td>41.751030</td>\n      <td>-87.613649</td>\n      <td>NaN</td>\n      <td>1</td>\n    </tr>\n    <tr>\n      <th>7</th>\n      <td>41.648818</td>\n      <td>-87.617080</td>\n      <td>60827.0</td>\n      <td>2</td>\n    </tr>\n    <tr>\n      <th>6</th>\n      <td>41.648818</td>\n      <td>-87.617080</td>\n      <td>60627.0</td>\n      <td>1</td>\n    </tr>\n  </tbody>\n</table>\n<p>116 rows × 4 columns</p>\n</div>"
     },
     "execution_count": 17,
     "metadata": {},
     "output_type": "execute_result"
    }
   ],
   "source": [
    "temp = orig_data.groupby(by=['Latitude', 'Longitude', 'Zip'], dropna=False).size().rename('count').reset_index()\n",
    "duplicated_zip = temp.groupby(by=['Latitude', 'Longitude'], dropna=False)\\\n",
    "    .filter(lambda x: len(x) > 1).sort_values(by=['Latitude', 'Longitude', 'count'], ascending=False)\n",
    "duplicated_zip"
   ],
   "metadata": {
    "collapsed": false,
    "pycharm": {
     "name": "#%%\n"
    }
   }
  },
  {
   "cell_type": "markdown",
   "source": [
    "The cleaned zip code data does not have the above conflicts."
   ],
   "metadata": {
    "collapsed": false,
    "pycharm": {
     "name": "#%% md\n"
    }
   }
  },
  {
   "cell_type": "code",
   "execution_count": 18,
   "outputs": [
    {
     "data": {
      "text/plain": "Empty DataFrame\nColumns: [zip, latitude, longitude, count(*)]\nIndex: []",
      "text/html": "<div>\n<style scoped>\n    .dataframe tbody tr th:only-of-type {\n        vertical-align: middle;\n    }\n\n    .dataframe tbody tr th {\n        vertical-align: top;\n    }\n\n    .dataframe thead th {\n        text-align: right;\n    }\n</style>\n<table border=\"1\" class=\"dataframe\">\n  <thead>\n    <tr style=\"text-align: right;\">\n      <th></th>\n      <th>zip</th>\n      <th>latitude</th>\n      <th>longitude</th>\n      <th>count(*)</th>\n    </tr>\n  </thead>\n  <tbody>\n  </tbody>\n</table>\n</div>"
     },
     "execution_count": 18,
     "metadata": {},
     "output_type": "execute_result"
    }
   ],
   "source": [
    "zip_count_cleaned = pd.read_sql_query\\\n",
    "    ('select zip, latitude, longitude, count(*) from address where latitude != \"\" group by latitude, longitude  having count(*) > 1;', con)\n",
    "zip_count_cleaned"
   ],
   "metadata": {
    "collapsed": false,
    "pycharm": {
     "name": "#%%\n"
    }
   }
  },
  {
   "cell_type": "markdown",
   "source": [
    "#### 2.1.5. state and city Integrity\n",
    "In the original data, the state and city was not identical to the same zip code."
   ],
   "metadata": {
    "collapsed": false,
    "pycharm": {
     "name": "#%% md\n"
    }
   }
  },
  {
   "cell_type": "code",
   "execution_count": 19,
   "outputs": [
    {
     "data": {
      "text/plain": "         Zip State             City  Count\n156  60707.0    IL          CHICAGO    882\n157  60707.0    IL          Chicago     11\n153  60666.0    IL          CHICAGO   1892\n154  60666.0    IL              NaN     10\n151  60661.0    IL          CHICAGO   2063\n..       ...   ...              ...    ...\n38   60601.0    IL          Chicago      5\n29   60461.0    IL   OLYMPIA FIELDS      1\n30   60461.0    IL  OOLYMPIA FIELDS      1\n12   60153.0    IL          MAYWOOD     14\n13   60153.0    IL          Maywood      1\n\n[104 rows x 4 columns]",
      "text/html": "<div>\n<style scoped>\n    .dataframe tbody tr th:only-of-type {\n        vertical-align: middle;\n    }\n\n    .dataframe tbody tr th {\n        vertical-align: top;\n    }\n\n    .dataframe thead th {\n        text-align: right;\n    }\n</style>\n<table border=\"1\" class=\"dataframe\">\n  <thead>\n    <tr style=\"text-align: right;\">\n      <th></th>\n      <th>Zip</th>\n      <th>State</th>\n      <th>City</th>\n      <th>Count</th>\n    </tr>\n  </thead>\n  <tbody>\n    <tr>\n      <th>156</th>\n      <td>60707.0</td>\n      <td>IL</td>\n      <td>CHICAGO</td>\n      <td>882</td>\n    </tr>\n    <tr>\n      <th>157</th>\n      <td>60707.0</td>\n      <td>IL</td>\n      <td>Chicago</td>\n      <td>11</td>\n    </tr>\n    <tr>\n      <th>153</th>\n      <td>60666.0</td>\n      <td>IL</td>\n      <td>CHICAGO</td>\n      <td>1892</td>\n    </tr>\n    <tr>\n      <th>154</th>\n      <td>60666.0</td>\n      <td>IL</td>\n      <td>NaN</td>\n      <td>10</td>\n    </tr>\n    <tr>\n      <th>151</th>\n      <td>60661.0</td>\n      <td>IL</td>\n      <td>CHICAGO</td>\n      <td>2063</td>\n    </tr>\n    <tr>\n      <th>...</th>\n      <td>...</td>\n      <td>...</td>\n      <td>...</td>\n      <td>...</td>\n    </tr>\n    <tr>\n      <th>38</th>\n      <td>60601.0</td>\n      <td>IL</td>\n      <td>Chicago</td>\n      <td>5</td>\n    </tr>\n    <tr>\n      <th>29</th>\n      <td>60461.0</td>\n      <td>IL</td>\n      <td>OLYMPIA FIELDS</td>\n      <td>1</td>\n    </tr>\n    <tr>\n      <th>30</th>\n      <td>60461.0</td>\n      <td>IL</td>\n      <td>OOLYMPIA FIELDS</td>\n      <td>1</td>\n    </tr>\n    <tr>\n      <th>12</th>\n      <td>60153.0</td>\n      <td>IL</td>\n      <td>MAYWOOD</td>\n      <td>14</td>\n    </tr>\n    <tr>\n      <th>13</th>\n      <td>60153.0</td>\n      <td>IL</td>\n      <td>Maywood</td>\n      <td>1</td>\n    </tr>\n  </tbody>\n</table>\n<p>104 rows × 4 columns</p>\n</div>"
     },
     "execution_count": 19,
     "metadata": {},
     "output_type": "execute_result"
    }
   ],
   "source": [
    "temp = orig_data[~orig_data['Zip'].isnull()].groupby(by=['Zip', 'State', 'City'], dropna=False).size().rename('Count').reset_index()\n",
    "duplicated_city_state = temp.groupby(by='Zip', dropna=False)\\\n",
    "    .filter(lambda x: len(x) > 1).sort_values(by=['Zip', 'Count'], ascending=False)\n",
    "duplicated_city_state\n",
    "\n"
   ],
   "metadata": {
    "collapsed": false,
    "pycharm": {
     "name": "#%%\n"
    }
   }
  },
  {
   "cell_type": "markdown",
   "source": [
    "The cleaned state and city data are identical to the zip code."
   ],
   "metadata": {
    "collapsed": false,
    "pycharm": {
     "name": "#%% md\n"
    }
   }
  },
  {
   "cell_type": "code",
   "execution_count": 20,
   "outputs": [
    {
     "data": {
      "text/plain": "Empty DataFrame\nColumns: [zip, city, state, count(*)]\nIndex: []",
      "text/html": "<div>\n<style scoped>\n    .dataframe tbody tr th:only-of-type {\n        vertical-align: middle;\n    }\n\n    .dataframe tbody tr th {\n        vertical-align: top;\n    }\n\n    .dataframe thead th {\n        text-align: right;\n    }\n</style>\n<table border=\"1\" class=\"dataframe\">\n  <thead>\n    <tr style=\"text-align: right;\">\n      <th></th>\n      <th>zip</th>\n      <th>city</th>\n      <th>state</th>\n      <th>count(*)</th>\n    </tr>\n  </thead>\n  <tbody>\n  </tbody>\n</table>\n</div>"
     },
     "execution_count": 20,
     "metadata": {},
     "output_type": "execute_result"
    }
   ],
   "source": [
    "state_city_count_cleaned = pd.read_sql_query\\\n",
    "    ('select zip, city, state, count(*) from (select distinct zip,  city,  state from address where zip != \"\")  group by zip having count(*) > 1;', con)\n",
    "state_city_count_cleaned\n"
   ],
   "metadata": {
    "collapsed": false,
    "pycharm": {
     "name": "#%%\n"
    }
   }
  },
  {
   "cell_type": "markdown",
   "source": [
    "### 2.2. Risk Integrity Check\n",
    "#### 2.2.1. Risk level\n",
    "In original data, the risk level can be different for the same facility in a same day."
   ],
   "metadata": {
    "collapsed": false,
    "pycharm": {
     "name": "#%% md\n"
    }
   }
  },
  {
   "cell_type": "code",
   "execution_count": 21,
   "outputs": [
    {
     "data": {
      "text/plain": "        License #                    DBA Name                    AKA Name  \\\n127712        0.0              FLAV-O-RICIOUS              FLAV-O-RICIOUS   \n127627        0.0              FLAV-O-RICIOUS              FLAV-O-RICIOUS   \n33799   1579115.0  TURKISH CUISINE AND BAKERY  TURKISH CUISINE AND BAKERY   \n85087   1579115.0  TURKISH CUISINE AND BAKERY  TURKISH CUISINE AND BAKERY   \n2313    1947909.0                      SUBWAY                      SUBWAY   \n115550  1947909.0                      SUBWAY                      SUBWAY   \n80181   1954774.0        Wells Street Popcorn        Wells Street Popcorn   \n80180   1954774.0        Wells Street Popcorn        Wells Street Popcorn   \n87109   1974918.0               ATINO'S PIZZA               ATINO'S PIZZA   \n87107   1974918.0               ATINO'S PIZZA               ATINO'S PIZZA   \n84339   2013962.0             KENDALL COLLEGE    LAB KITCHEN B-ROOM 120B.   \n69370   2013962.0             KENDALL COLLEGE    LAB KITCHEN B-ROOM 120B.   \n145952  2031677.0                 PORK SHOPPE                 PORK SHOPPE   \n145463  2031677.0                 PORK SHOPPE                 PORK SHOPPE   \n140399  2032230.0               MORE CUPCAKES               MORE CUPCAKES   \n108154  2032230.0               MORE CUPCAKES               MORE CUPCAKES   \n134516  2073639.0                THE SOUTHERN                THE SOUTHERN   \n100153  2073639.0                THE SOUTHERN                THE SOUTHERN   \n121526  2113684.0                     WOW BAO                     WOW BAO   \n122235  2113684.0                     WOW BAO                     WOW BAO   \n87760   2240275.0             PARTS AND LABOR             PARTS AND LABOR   \n79447   2240275.0             PARTS AND LABOR             PARTS AND LABOR   \n52251   2278041.0              COBBLER'S CAFE                         NaN   \n86762   2278041.0              COBBLER'S CAFE                         NaN   \n6180    2333150.0            GREENLINE COFFEE            GREENLINE COFFEE   \n69712   2333150.0            GREENLINE COFFEE            GREENLINE COFFEE   \n50857   2368585.0         VIA LIMA RESTAURANT         VIA LIMA RESTAURANT   \n54179   2368585.0         VIA LIMA RESTAURANT         VIA LIMA RESTAURANT   \n9226    2510999.0                    EVELYN'S                    EVELYN'S   \n4958    2510999.0                    EVELYN'S                    EVELYN'S   \n4213    2528906.0         PIZZA HUT SLICE BAR                   PIZZA HUT   \n3143    2528906.0         PIZZA HUT SLICE BAR                   PIZZA HUT   \n\n                       Address             Risk  \n127712        600 E GRAND AVE      Risk 3 (Low)  \n127627        600 E GRAND AVE   Risk 2 (Medium)  \n33799    5605-5609 N CLARK ST     Risk 1 (High)  \n85087    5605-5609 N CLARK ST      Risk 3 (Low)  \n2313        6450 S PULASKI RD     Risk 1 (High)  \n115550      6450 S PULASKI RD      Risk 3 (Low)  \n80181         2804 N CLARK ST   Risk 2 (Medium)  \n80180         2804 N CLARK ST      Risk 3 (Low)  \n87109     4610 W DIVERSEY AVE     Risk 1 (High)  \n87107     4610 W DIVERSEY AVE      Risk 3 (Low)  \n84339   900 N NORTH BRANCH ST     Risk 1 (High)  \n69370   900 N NORTH BRANCH ST      Risk 3 (Low)  \n145952     2755 W BELMONT AVE      Risk 3 (Low)  \n145463     2755 W BELMONT AVE     Risk 1 (High)  \n140399        1 E DELAWARE PL   Risk 2 (Medium)  \n108154        1 E DELAWARE PL      Risk 3 (Low)  \n134516  1840-1842 W NORTH AVE     Risk 1 (High)  \n100153  1840-1842 W NORTH AVE   Risk 2 (Medium)  \n121526     175 W JACKSON BLVD      Risk 3 (Low)  \n122235     175 W JACKSON BLVD     Risk 1 (High)  \n87760    2700 N MILWAUKEE AVE      Risk 3 (Low)  \n79447    2700 N MILWAUKEE AVE     Risk 1 (High)  \n52251      7036 S WESTERN AVE   Risk 2 (Medium)  \n86762      7036 S WESTERN AVE               NaN  \n6180            501 E 61ST ST   Risk 2 (Medium)  \n69712           501 E 61ST ST               NaN  \n50857      4024 N LINCOLN AVE     Risk 1 (High)  \n54179      4024 N LINCOLN AVE               NaN  \n9226          5522 S STATE ST               NaN  \n4958          5522 S STATE ST     Risk 1 (High)  \n4213         500 W MADISON ST               All  \n3143         500 W MADISON ST   Risk 2 (Medium)  ",
      "text/html": "<div>\n<style scoped>\n    .dataframe tbody tr th:only-of-type {\n        vertical-align: middle;\n    }\n\n    .dataframe tbody tr th {\n        vertical-align: top;\n    }\n\n    .dataframe thead th {\n        text-align: right;\n    }\n</style>\n<table border=\"1\" class=\"dataframe\">\n  <thead>\n    <tr style=\"text-align: right;\">\n      <th></th>\n      <th>License #</th>\n      <th>DBA Name</th>\n      <th>AKA Name</th>\n      <th>Address</th>\n      <th>Risk</th>\n    </tr>\n  </thead>\n  <tbody>\n    <tr>\n      <th>127712</th>\n      <td>0.0</td>\n      <td>FLAV-O-RICIOUS</td>\n      <td>FLAV-O-RICIOUS</td>\n      <td>600 E GRAND AVE</td>\n      <td>Risk 3 (Low)</td>\n    </tr>\n    <tr>\n      <th>127627</th>\n      <td>0.0</td>\n      <td>FLAV-O-RICIOUS</td>\n      <td>FLAV-O-RICIOUS</td>\n      <td>600 E GRAND AVE</td>\n      <td>Risk 2 (Medium)</td>\n    </tr>\n    <tr>\n      <th>33799</th>\n      <td>1579115.0</td>\n      <td>TURKISH CUISINE AND BAKERY</td>\n      <td>TURKISH CUISINE AND BAKERY</td>\n      <td>5605-5609 N CLARK ST</td>\n      <td>Risk 1 (High)</td>\n    </tr>\n    <tr>\n      <th>85087</th>\n      <td>1579115.0</td>\n      <td>TURKISH CUISINE AND BAKERY</td>\n      <td>TURKISH CUISINE AND BAKERY</td>\n      <td>5605-5609 N CLARK ST</td>\n      <td>Risk 3 (Low)</td>\n    </tr>\n    <tr>\n      <th>2313</th>\n      <td>1947909.0</td>\n      <td>SUBWAY</td>\n      <td>SUBWAY</td>\n      <td>6450 S PULASKI RD</td>\n      <td>Risk 1 (High)</td>\n    </tr>\n    <tr>\n      <th>115550</th>\n      <td>1947909.0</td>\n      <td>SUBWAY</td>\n      <td>SUBWAY</td>\n      <td>6450 S PULASKI RD</td>\n      <td>Risk 3 (Low)</td>\n    </tr>\n    <tr>\n      <th>80181</th>\n      <td>1954774.0</td>\n      <td>Wells Street Popcorn</td>\n      <td>Wells Street Popcorn</td>\n      <td>2804 N CLARK ST</td>\n      <td>Risk 2 (Medium)</td>\n    </tr>\n    <tr>\n      <th>80180</th>\n      <td>1954774.0</td>\n      <td>Wells Street Popcorn</td>\n      <td>Wells Street Popcorn</td>\n      <td>2804 N CLARK ST</td>\n      <td>Risk 3 (Low)</td>\n    </tr>\n    <tr>\n      <th>87109</th>\n      <td>1974918.0</td>\n      <td>ATINO'S PIZZA</td>\n      <td>ATINO'S PIZZA</td>\n      <td>4610 W DIVERSEY AVE</td>\n      <td>Risk 1 (High)</td>\n    </tr>\n    <tr>\n      <th>87107</th>\n      <td>1974918.0</td>\n      <td>ATINO'S PIZZA</td>\n      <td>ATINO'S PIZZA</td>\n      <td>4610 W DIVERSEY AVE</td>\n      <td>Risk 3 (Low)</td>\n    </tr>\n    <tr>\n      <th>84339</th>\n      <td>2013962.0</td>\n      <td>KENDALL COLLEGE</td>\n      <td>LAB KITCHEN B-ROOM 120B.</td>\n      <td>900 N NORTH BRANCH ST</td>\n      <td>Risk 1 (High)</td>\n    </tr>\n    <tr>\n      <th>69370</th>\n      <td>2013962.0</td>\n      <td>KENDALL COLLEGE</td>\n      <td>LAB KITCHEN B-ROOM 120B.</td>\n      <td>900 N NORTH BRANCH ST</td>\n      <td>Risk 3 (Low)</td>\n    </tr>\n    <tr>\n      <th>145952</th>\n      <td>2031677.0</td>\n      <td>PORK SHOPPE</td>\n      <td>PORK SHOPPE</td>\n      <td>2755 W BELMONT AVE</td>\n      <td>Risk 3 (Low)</td>\n    </tr>\n    <tr>\n      <th>145463</th>\n      <td>2031677.0</td>\n      <td>PORK SHOPPE</td>\n      <td>PORK SHOPPE</td>\n      <td>2755 W BELMONT AVE</td>\n      <td>Risk 1 (High)</td>\n    </tr>\n    <tr>\n      <th>140399</th>\n      <td>2032230.0</td>\n      <td>MORE CUPCAKES</td>\n      <td>MORE CUPCAKES</td>\n      <td>1 E DELAWARE PL</td>\n      <td>Risk 2 (Medium)</td>\n    </tr>\n    <tr>\n      <th>108154</th>\n      <td>2032230.0</td>\n      <td>MORE CUPCAKES</td>\n      <td>MORE CUPCAKES</td>\n      <td>1 E DELAWARE PL</td>\n      <td>Risk 3 (Low)</td>\n    </tr>\n    <tr>\n      <th>134516</th>\n      <td>2073639.0</td>\n      <td>THE SOUTHERN</td>\n      <td>THE SOUTHERN</td>\n      <td>1840-1842 W NORTH AVE</td>\n      <td>Risk 1 (High)</td>\n    </tr>\n    <tr>\n      <th>100153</th>\n      <td>2073639.0</td>\n      <td>THE SOUTHERN</td>\n      <td>THE SOUTHERN</td>\n      <td>1840-1842 W NORTH AVE</td>\n      <td>Risk 2 (Medium)</td>\n    </tr>\n    <tr>\n      <th>121526</th>\n      <td>2113684.0</td>\n      <td>WOW BAO</td>\n      <td>WOW BAO</td>\n      <td>175 W JACKSON BLVD</td>\n      <td>Risk 3 (Low)</td>\n    </tr>\n    <tr>\n      <th>122235</th>\n      <td>2113684.0</td>\n      <td>WOW BAO</td>\n      <td>WOW BAO</td>\n      <td>175 W JACKSON BLVD</td>\n      <td>Risk 1 (High)</td>\n    </tr>\n    <tr>\n      <th>87760</th>\n      <td>2240275.0</td>\n      <td>PARTS AND LABOR</td>\n      <td>PARTS AND LABOR</td>\n      <td>2700 N MILWAUKEE AVE</td>\n      <td>Risk 3 (Low)</td>\n    </tr>\n    <tr>\n      <th>79447</th>\n      <td>2240275.0</td>\n      <td>PARTS AND LABOR</td>\n      <td>PARTS AND LABOR</td>\n      <td>2700 N MILWAUKEE AVE</td>\n      <td>Risk 1 (High)</td>\n    </tr>\n    <tr>\n      <th>52251</th>\n      <td>2278041.0</td>\n      <td>COBBLER'S CAFE</td>\n      <td>NaN</td>\n      <td>7036 S WESTERN AVE</td>\n      <td>Risk 2 (Medium)</td>\n    </tr>\n    <tr>\n      <th>86762</th>\n      <td>2278041.0</td>\n      <td>COBBLER'S CAFE</td>\n      <td>NaN</td>\n      <td>7036 S WESTERN AVE</td>\n      <td>NaN</td>\n    </tr>\n    <tr>\n      <th>6180</th>\n      <td>2333150.0</td>\n      <td>GREENLINE COFFEE</td>\n      <td>GREENLINE COFFEE</td>\n      <td>501 E 61ST ST</td>\n      <td>Risk 2 (Medium)</td>\n    </tr>\n    <tr>\n      <th>69712</th>\n      <td>2333150.0</td>\n      <td>GREENLINE COFFEE</td>\n      <td>GREENLINE COFFEE</td>\n      <td>501 E 61ST ST</td>\n      <td>NaN</td>\n    </tr>\n    <tr>\n      <th>50857</th>\n      <td>2368585.0</td>\n      <td>VIA LIMA RESTAURANT</td>\n      <td>VIA LIMA RESTAURANT</td>\n      <td>4024 N LINCOLN AVE</td>\n      <td>Risk 1 (High)</td>\n    </tr>\n    <tr>\n      <th>54179</th>\n      <td>2368585.0</td>\n      <td>VIA LIMA RESTAURANT</td>\n      <td>VIA LIMA RESTAURANT</td>\n      <td>4024 N LINCOLN AVE</td>\n      <td>NaN</td>\n    </tr>\n    <tr>\n      <th>9226</th>\n      <td>2510999.0</td>\n      <td>EVELYN'S</td>\n      <td>EVELYN'S</td>\n      <td>5522 S STATE ST</td>\n      <td>NaN</td>\n    </tr>\n    <tr>\n      <th>4958</th>\n      <td>2510999.0</td>\n      <td>EVELYN'S</td>\n      <td>EVELYN'S</td>\n      <td>5522 S STATE ST</td>\n      <td>Risk 1 (High)</td>\n    </tr>\n    <tr>\n      <th>4213</th>\n      <td>2528906.0</td>\n      <td>PIZZA HUT SLICE BAR</td>\n      <td>PIZZA HUT</td>\n      <td>500 W MADISON ST</td>\n      <td>All</td>\n    </tr>\n    <tr>\n      <th>3143</th>\n      <td>2528906.0</td>\n      <td>PIZZA HUT SLICE BAR</td>\n      <td>PIZZA HUT</td>\n      <td>500 W MADISON ST</td>\n      <td>Risk 2 (Medium)</td>\n    </tr>\n  </tbody>\n</table>\n</div>"
     },
     "execution_count": 21,
     "metadata": {},
     "output_type": "execute_result"
    }
   ],
   "source": [
    "temp = orig_data[['License #', 'DBA Name', 'AKA Name', 'Address', 'Risk']].drop_duplicates()\n",
    "duplicated_risk = temp[temp.duplicated(subset=['License #', 'DBA Name', 'AKA Name', 'Address'], keep=False)].sort_values(by='License #')\n",
    "duplicated_risk"
   ],
   "metadata": {
    "collapsed": false,
    "pycharm": {
     "name": "#%%\n"
    }
   }
  },
  {
   "cell_type": "markdown",
   "source": [
    " The cleaned data has no duplicated risk for the same facility.\n"
   ],
   "metadata": {
    "collapsed": false,
    "pycharm": {
     "name": "#%% md\n"
    }
   }
  },
  {
   "cell_type": "code",
   "execution_count": 22,
   "outputs": [
    {
     "data": {
      "text/plain": "Empty DataFrame\nColumns: [facility_id, risk_code, count(*)]\nIndex: []",
      "text/html": "<div>\n<style scoped>\n    .dataframe tbody tr th:only-of-type {\n        vertical-align: middle;\n    }\n\n    .dataframe tbody tr th {\n        vertical-align: top;\n    }\n\n    .dataframe thead th {\n        text-align: right;\n    }\n</style>\n<table border=\"1\" class=\"dataframe\">\n  <thead>\n    <tr style=\"text-align: right;\">\n      <th></th>\n      <th>facility_id</th>\n      <th>risk_code</th>\n      <th>count(*)</th>\n    </tr>\n  </thead>\n  <tbody>\n  </tbody>\n</table>\n</div>"
     },
     "execution_count": 22,
     "metadata": {},
     "output_type": "execute_result"
    }
   ],
   "source": [
    "risk_cleaned = pd.read_sql_query\\\n",
    "    ('select facility_id, risk_code, count(*) from facility_risk group by facility_id,risk_code having count(*) > 1;', con)\n",
    "risk_cleaned"
   ],
   "metadata": {
    "collapsed": false,
    "pycharm": {
     "name": "#%%\n"
    }
   }
  },
  {
   "cell_type": "markdown",
   "source": [
    "### 2.3 Violation Integrity Check\n",
    "\n",
    "There are two types of conclusions: conclusive result and non-conclusive result:\n",
    "- conclusive results includes 'Pass', 'Fail', 'Pass w/ Conditions';\n",
    "- non-conclusive results includes 'Out of Business', 'No Entry', 'Not Ready', 'Business Not Located'"
   ],
   "metadata": {
    "collapsed": false,
    "pycharm": {
     "name": "#%% md\n"
    }
   }
  },
  {
   "cell_type": "markdown",
   "source": [
    "In the original report, we found that for some non-conclusive inspection, it still have some violation code."
   ],
   "metadata": {
    "collapsed": false,
    "pycharm": {
     "name": "#%% md\n"
    }
   }
  },
  {
   "cell_type": "code",
   "execution_count": 23,
   "outputs": [],
   "source": [
    "conclusive_results = ['Pass', 'Fail', 'Pass w/ Conditions']\n",
    "non_conclusive_results = ['Out of Business', 'No Entry', 'Not Ready', 'Business Not Located']"
   ],
   "metadata": {
    "collapsed": false,
    "pycharm": {
     "name": "#%%\n"
    }
   }
  },
  {
   "cell_type": "code",
   "execution_count": 24,
   "outputs": [
    {
     "data": {
      "text/plain": "        Inspection ID                        DBA Name  \\\n2             2079125                       ROOM 1520   \n11            2079076              THE ART OF CHICKEN   \n38            2079101                  THE PARTY ROOM   \n129           2078837                         SILOM12   \n316           2078880                 PARTS AND LABOR   \n...               ...                             ...   \n109860        1215137                      BUBS GYROS   \n115737         545787  HONEY BEAR NURSERY & KINDERGAR   \n117134         545725                  THE BURGER BAR   \n127908         517377                      KITH & KIN   \n135977         353252              JOY AND JAMES CAFE   \n\n                              AKA Name  License #          Facility Type  \\\n2                            ROOM 1520  2446638.0          Special Event   \n11                  THE ART OF CHICKEN  2202818.0             Restaurant   \n38                      THE PARTY ROOM  2534843.0               Catering   \n129              SILOM12 THAI BUCKTOWN  2064938.0             Restaurant   \n316                    PARTS AND LABOR  2240274.0             Restaurant   \n...                                ...        ...                    ...   \n109860                    BUB'S  GYROS  2069295.0             Restaurant   \n115737  HONEY BEAR NURSERY & KINDERGAR     5664.0  Daycare (2 - 6 Years)   \n117134                  THE BURGER BAR  2064712.0             Restaurant   \n127908             WEBSTER STREET CAFE  1799703.0             Restaurant   \n135977             JOY  AND JAMES CAFE  1221335.0             Restaurant   \n\n                   Risk                     Address     City State      Zip  \\\n2          Risk 3 (Low)           301 N JUSTINE ST   CHICAGO    IL  60607.0   \n11        Risk 1 (High)         2041 N WESTERN AVE   CHICAGO    IL  60647.0   \n38        Risk 1 (High)      10232 S VINCENNES AVE   CHICAGO    IL  60643.0   \n129       Risk 1 (High)  1846-1848 N MILWAUKEE AVE   CHICAGO    IL  60647.0   \n316       Risk 1 (High)       2700 N MILWAUKEE AVE   CHICAGO    IL  60647.0   \n...                 ...                         ...      ...   ...      ...   \n109860    Risk 1 (High)      5800 W IRVING PARK RD   CHICAGO    IL  60634.0   \n115737    Risk 1 (High)              419 W 95TH ST   CHICAGO    IL  60628.0   \n117134  Risk 2 (Medium)              622 E 71ST ST   CHICAGO    IL  60619.0   \n127908    Risk 1 (High)    1119-1121 W WEBSTER AVE   CHICAGO    IL  60614.0   \n135977    Risk 1 (High)        4701 W LAWRENCE AVE   CHICAGO    IL  60630.0   \n\n       Inspection Date          Inspection Type          Results  \\\n2           08/28/2017    License Re-Inspection        Not Ready   \n11          08/25/2017                Complaint         No Entry   \n38          08/25/2017    License Re-Inspection        Not Ready   \n129         08/22/2017                  Canvass         No Entry   \n316         08/15/2017                  Canvass         No Entry   \n...                ...                      ...              ...   \n109860      05/24/2012  Complaint Re-Inspection  Out of Business   \n115737      01/31/2012    Canvass Re-Inspection  Out of Business   \n117134      01/03/2012  Complaint Re-Inspection  Out of Business   \n127908      06/01/2011  Complaint Re-Inspection  Out of Business   \n135977      12/30/2010    Canvass Re-Inspection  Out of Business   \n\n                                               Violations   Latitude  \\\n2       8. SANITIZING RINSE FOR EQUIPMENT AND UTENSILS...  41.886577   \n11      34. FLOORS: CONSTRUCTED PER CODE, CLEANED, GOO...  41.918742   \n38      2. FACILITIES TO MAINTAIN PROPER TEMPERATURE -...  41.707675   \n129     30. FOOD IN ORIGINAL CONTAINER, PROPERLY LABEL...  41.914901   \n316     35. WALLS, CEILINGS, ATTACHED EQUIPMENT CONSTR...  41.930191   \n...                                                   ...        ...   \n109860  24. DISH WASHING FACILITIES: PROPERLY DESIGNED...  41.953228   \n115737  18. NO EVIDENCE OF RODENT OR INSECT OUTER OPEN...  41.721474   \n117134  18. NO EVIDENCE OF RODENT OR INSECT OUTER OPEN...  41.765919   \n127908  18. NO EVIDENCE OF RODENT OR INSECT OUTER OPEN...  41.921577   \n135977  41. PREMISES MAINTAINED FREE OF LITTER, UNNECE...  41.967944   \n\n        Longitude                                  Location  \n2      -87.665328   (41.88657652150854, -87.66532812140231)  \n11     -87.687301  (41.918741718038916, -87.68730089444456)  \n38     -87.655848   (41.70767490603119, -87.65584840757958)  \n129    -87.684667   (41.91490097692986, -87.68466742765311)  \n316    -87.709475  (41.930190942014534, -87.70947504959446)  \n...           ...                                       ...  \n109860 -87.771956   (41.95322815649395, -87.77195584555682)  \n115737 -87.634264   (41.72147380165719, -87.63426431837996)  \n117134 -87.609521  (41.765919379539135, -87.60952093374088)  \n127908 -87.656727   (41.92157698377766, -87.65672651542604)  \n135977 -87.745328   (41.96794426205111, -87.74532767201778)  \n\n[363 rows x 17 columns]",
      "text/html": "<div>\n<style scoped>\n    .dataframe tbody tr th:only-of-type {\n        vertical-align: middle;\n    }\n\n    .dataframe tbody tr th {\n        vertical-align: top;\n    }\n\n    .dataframe thead th {\n        text-align: right;\n    }\n</style>\n<table border=\"1\" class=\"dataframe\">\n  <thead>\n    <tr style=\"text-align: right;\">\n      <th></th>\n      <th>Inspection ID</th>\n      <th>DBA Name</th>\n      <th>AKA Name</th>\n      <th>License #</th>\n      <th>Facility Type</th>\n      <th>Risk</th>\n      <th>Address</th>\n      <th>City</th>\n      <th>State</th>\n      <th>Zip</th>\n      <th>Inspection Date</th>\n      <th>Inspection Type</th>\n      <th>Results</th>\n      <th>Violations</th>\n      <th>Latitude</th>\n      <th>Longitude</th>\n      <th>Location</th>\n    </tr>\n  </thead>\n  <tbody>\n    <tr>\n      <th>2</th>\n      <td>2079125</td>\n      <td>ROOM 1520</td>\n      <td>ROOM 1520</td>\n      <td>2446638.0</td>\n      <td>Special Event</td>\n      <td>Risk 3 (Low)</td>\n      <td>301 N JUSTINE ST</td>\n      <td>CHICAGO</td>\n      <td>IL</td>\n      <td>60607.0</td>\n      <td>08/28/2017</td>\n      <td>License Re-Inspection</td>\n      <td>Not Ready</td>\n      <td>8. SANITIZING RINSE FOR EQUIPMENT AND UTENSILS...</td>\n      <td>41.886577</td>\n      <td>-87.665328</td>\n      <td>(41.88657652150854, -87.66532812140231)</td>\n    </tr>\n    <tr>\n      <th>11</th>\n      <td>2079076</td>\n      <td>THE ART OF CHICKEN</td>\n      <td>THE ART OF CHICKEN</td>\n      <td>2202818.0</td>\n      <td>Restaurant</td>\n      <td>Risk 1 (High)</td>\n      <td>2041 N WESTERN AVE</td>\n      <td>CHICAGO</td>\n      <td>IL</td>\n      <td>60647.0</td>\n      <td>08/25/2017</td>\n      <td>Complaint</td>\n      <td>No Entry</td>\n      <td>34. FLOORS: CONSTRUCTED PER CODE, CLEANED, GOO...</td>\n      <td>41.918742</td>\n      <td>-87.687301</td>\n      <td>(41.918741718038916, -87.68730089444456)</td>\n    </tr>\n    <tr>\n      <th>38</th>\n      <td>2079101</td>\n      <td>THE PARTY ROOM</td>\n      <td>THE PARTY ROOM</td>\n      <td>2534843.0</td>\n      <td>Catering</td>\n      <td>Risk 1 (High)</td>\n      <td>10232 S VINCENNES AVE</td>\n      <td>CHICAGO</td>\n      <td>IL</td>\n      <td>60643.0</td>\n      <td>08/25/2017</td>\n      <td>License Re-Inspection</td>\n      <td>Not Ready</td>\n      <td>2. FACILITIES TO MAINTAIN PROPER TEMPERATURE -...</td>\n      <td>41.707675</td>\n      <td>-87.655848</td>\n      <td>(41.70767490603119, -87.65584840757958)</td>\n    </tr>\n    <tr>\n      <th>129</th>\n      <td>2078837</td>\n      <td>SILOM12</td>\n      <td>SILOM12 THAI BUCKTOWN</td>\n      <td>2064938.0</td>\n      <td>Restaurant</td>\n      <td>Risk 1 (High)</td>\n      <td>1846-1848 N MILWAUKEE AVE</td>\n      <td>CHICAGO</td>\n      <td>IL</td>\n      <td>60647.0</td>\n      <td>08/22/2017</td>\n      <td>Canvass</td>\n      <td>No Entry</td>\n      <td>30. FOOD IN ORIGINAL CONTAINER, PROPERLY LABEL...</td>\n      <td>41.914901</td>\n      <td>-87.684667</td>\n      <td>(41.91490097692986, -87.68466742765311)</td>\n    </tr>\n    <tr>\n      <th>316</th>\n      <td>2078880</td>\n      <td>PARTS AND LABOR</td>\n      <td>PARTS AND LABOR</td>\n      <td>2240274.0</td>\n      <td>Restaurant</td>\n      <td>Risk 1 (High)</td>\n      <td>2700 N MILWAUKEE AVE</td>\n      <td>CHICAGO</td>\n      <td>IL</td>\n      <td>60647.0</td>\n      <td>08/15/2017</td>\n      <td>Canvass</td>\n      <td>No Entry</td>\n      <td>35. WALLS, CEILINGS, ATTACHED EQUIPMENT CONSTR...</td>\n      <td>41.930191</td>\n      <td>-87.709475</td>\n      <td>(41.930190942014534, -87.70947504959446)</td>\n    </tr>\n    <tr>\n      <th>...</th>\n      <td>...</td>\n      <td>...</td>\n      <td>...</td>\n      <td>...</td>\n      <td>...</td>\n      <td>...</td>\n      <td>...</td>\n      <td>...</td>\n      <td>...</td>\n      <td>...</td>\n      <td>...</td>\n      <td>...</td>\n      <td>...</td>\n      <td>...</td>\n      <td>...</td>\n      <td>...</td>\n      <td>...</td>\n    </tr>\n    <tr>\n      <th>109860</th>\n      <td>1215137</td>\n      <td>BUBS GYROS</td>\n      <td>BUB'S  GYROS</td>\n      <td>2069295.0</td>\n      <td>Restaurant</td>\n      <td>Risk 1 (High)</td>\n      <td>5800 W IRVING PARK RD</td>\n      <td>CHICAGO</td>\n      <td>IL</td>\n      <td>60634.0</td>\n      <td>05/24/2012</td>\n      <td>Complaint Re-Inspection</td>\n      <td>Out of Business</td>\n      <td>24. DISH WASHING FACILITIES: PROPERLY DESIGNED...</td>\n      <td>41.953228</td>\n      <td>-87.771956</td>\n      <td>(41.95322815649395, -87.77195584555682)</td>\n    </tr>\n    <tr>\n      <th>115737</th>\n      <td>545787</td>\n      <td>HONEY BEAR NURSERY &amp; KINDERGAR</td>\n      <td>HONEY BEAR NURSERY &amp; KINDERGAR</td>\n      <td>5664.0</td>\n      <td>Daycare (2 - 6 Years)</td>\n      <td>Risk 1 (High)</td>\n      <td>419 W 95TH ST</td>\n      <td>CHICAGO</td>\n      <td>IL</td>\n      <td>60628.0</td>\n      <td>01/31/2012</td>\n      <td>Canvass Re-Inspection</td>\n      <td>Out of Business</td>\n      <td>18. NO EVIDENCE OF RODENT OR INSECT OUTER OPEN...</td>\n      <td>41.721474</td>\n      <td>-87.634264</td>\n      <td>(41.72147380165719, -87.63426431837996)</td>\n    </tr>\n    <tr>\n      <th>117134</th>\n      <td>545725</td>\n      <td>THE BURGER BAR</td>\n      <td>THE BURGER BAR</td>\n      <td>2064712.0</td>\n      <td>Restaurant</td>\n      <td>Risk 2 (Medium)</td>\n      <td>622 E 71ST ST</td>\n      <td>CHICAGO</td>\n      <td>IL</td>\n      <td>60619.0</td>\n      <td>01/03/2012</td>\n      <td>Complaint Re-Inspection</td>\n      <td>Out of Business</td>\n      <td>18. NO EVIDENCE OF RODENT OR INSECT OUTER OPEN...</td>\n      <td>41.765919</td>\n      <td>-87.609521</td>\n      <td>(41.765919379539135, -87.60952093374088)</td>\n    </tr>\n    <tr>\n      <th>127908</th>\n      <td>517377</td>\n      <td>KITH &amp; KIN</td>\n      <td>WEBSTER STREET CAFE</td>\n      <td>1799703.0</td>\n      <td>Restaurant</td>\n      <td>Risk 1 (High)</td>\n      <td>1119-1121 W WEBSTER AVE</td>\n      <td>CHICAGO</td>\n      <td>IL</td>\n      <td>60614.0</td>\n      <td>06/01/2011</td>\n      <td>Complaint Re-Inspection</td>\n      <td>Out of Business</td>\n      <td>18. NO EVIDENCE OF RODENT OR INSECT OUTER OPEN...</td>\n      <td>41.921577</td>\n      <td>-87.656727</td>\n      <td>(41.92157698377766, -87.65672651542604)</td>\n    </tr>\n    <tr>\n      <th>135977</th>\n      <td>353252</td>\n      <td>JOY AND JAMES CAFE</td>\n      <td>JOY  AND JAMES CAFE</td>\n      <td>1221335.0</td>\n      <td>Restaurant</td>\n      <td>Risk 1 (High)</td>\n      <td>4701 W LAWRENCE AVE</td>\n      <td>CHICAGO</td>\n      <td>IL</td>\n      <td>60630.0</td>\n      <td>12/30/2010</td>\n      <td>Canvass Re-Inspection</td>\n      <td>Out of Business</td>\n      <td>41. PREMISES MAINTAINED FREE OF LITTER, UNNECE...</td>\n      <td>41.967944</td>\n      <td>-87.745328</td>\n      <td>(41.96794426205111, -87.74532767201778)</td>\n    </tr>\n  </tbody>\n</table>\n<p>363 rows × 17 columns</p>\n</div>"
     },
     "execution_count": 24,
     "metadata": {},
     "output_type": "execute_result"
    }
   ],
   "source": [
    "orig_data[orig_data['Results'].isin(non_conclusive_results) & (~orig_data['Violations'].isnull())]\n"
   ],
   "metadata": {
    "collapsed": false,
    "pycharm": {
     "name": "#%%\n"
    }
   }
  },
  {
   "cell_type": "markdown",
   "source": [
    "After cleaning, we found that for non_conclusive results, there is no violation code.\n"
   ],
   "metadata": {
    "collapsed": false,
    "pycharm": {
     "name": "#%% md\n"
    }
   }
  },
  {
   "cell_type": "code",
   "execution_count": 25,
   "outputs": [
    {
     "data": {
      "text/plain": "Empty DataFrame\nColumns: [id]\nIndex: []",
      "text/html": "<div>\n<style scoped>\n    .dataframe tbody tr th:only-of-type {\n        vertical-align: middle;\n    }\n\n    .dataframe tbody tr th {\n        vertical-align: top;\n    }\n\n    .dataframe thead th {\n        text-align: right;\n    }\n</style>\n<table border=\"1\" class=\"dataframe\">\n  <thead>\n    <tr style=\"text-align: right;\">\n      <th></th>\n      <th>id</th>\n    </tr>\n  </thead>\n  <tbody>\n  </tbody>\n</table>\n</div>"
     },
     "execution_count": 25,
     "metadata": {},
     "output_type": "execute_result"
    }
   ],
   "source": [
    "non_conclusive_cleaned = pd.read_sql_query\\\n",
    "    (\"\"\"select id from Inspection join Inspection_Violation on id = inspection_id where result = \"Out of Business\" or result = \"No Entry\" or result = \"Not Ready\" or result = \"Business Not Located\" ;\"\"\", con)\n",
    "\n",
    "non_conclusive_cleaned"
   ],
   "metadata": {
    "collapsed": false,
    "pycharm": {
     "name": "#%%\n"
    }
   }
  },
  {
   "cell_type": "code",
   "execution_count": 25,
   "outputs": [],
   "source": [
    "\n"
   ],
   "metadata": {
    "collapsed": false,
    "pycharm": {
     "name": "#%%\n"
    }
   }
  },
  {
   "cell_type": "code",
   "execution_count": 25,
   "outputs": [],
   "source": [
    "\n"
   ],
   "metadata": {
    "collapsed": false,
    "pycharm": {
     "name": "#%%\n"
    }
   }
  },
  {
   "cell_type": "code",
   "execution_count": 25,
   "outputs": [],
   "source": [
    "\n"
   ],
   "metadata": {
    "collapsed": false,
    "pycharm": {
     "name": "#%%\n"
    }
   }
  },
  {
   "cell_type": "code",
   "execution_count": 25,
   "outputs": [],
   "source": [
    "\n"
   ],
   "metadata": {
    "collapsed": false,
    "pycharm": {
     "name": "#%%\n"
    }
   }
  },
  {
   "cell_type": "code",
   "execution_count": 25,
   "outputs": [],
   "source": [
    "\n"
   ],
   "metadata": {
    "collapsed": false,
    "pycharm": {
     "name": "#%%\n"
    }
   }
  },
  {
   "cell_type": "code",
   "execution_count": 25,
   "outputs": [],
   "source": [],
   "metadata": {
    "collapsed": false,
    "pycharm": {
     "name": "#%%\n"
    }
   }
  },
  {
   "cell_type": "code",
   "execution_count": 25,
   "outputs": [],
   "source": [],
   "metadata": {
    "collapsed": false,
    "pycharm": {
     "name": "#%%\n"
    }
   }
  }
 ],
 "metadata": {
  "kernelspec": {
   "display_name": "Python 3",
   "language": "python",
   "name": "python3"
  },
  "language_info": {
   "codemirror_mode": {
    "name": "ipython",
    "version": 3
   },
   "file_extension": ".py",
   "mimetype": "text/x-python",
   "name": "python",
   "nbconvert_exporter": "python",
   "pygments_lexer": "ipython3",
   "version": "3.7.6"
  }
 },
 "nbformat": 4,
 "nbformat_minor": 1
}