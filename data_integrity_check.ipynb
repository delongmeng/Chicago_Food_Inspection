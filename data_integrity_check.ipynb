{
 "cells": [
  {
   "cell_type": "markdown",
   "metadata": {
    "collapsed": true,
    "pycharm": {
     "name": "#%% md\n"
    }
   },
   "source": [
    "# data integrity check"
   ]
  },
  {
   "cell_type": "markdown",
   "metadata": {
    "pycharm": {
     "name": "#%%\n"
    }
   },
   "source": [
    "## 1. Connect to the database:"
   ]
  },
  {
   "cell_type": "code",
   "execution_count": 63,
   "metadata": {},
   "outputs": [],
   "source": [
    "import pandas as pd\n",
    "import sqlite3\n",
    "con = sqlite3.connect(\"data/db/food_inspections.db\")"
   ]
  },
  {
   "cell_type": "code",
   "execution_count": 64,
   "metadata": {},
   "outputs": [
    {
     "data": {
      "text/plain": "  id                 name_dba                 name_aka license_id  \\\n0  0     #1 CHINA EXPRESS LTD    #1 CHINA EXPRESS  LTD    1869616   \n1  1             #1 CHOP SUEY             #1 CHOP SUEY    2042372   \n2  2             #1 CHOP SUEY             #1 CHOP SUEY    1970042   \n3  3  #1 CHOP SUEY RESTAURANT  #1 CHOP SUEY RESTAURANT    1739799   \n4  4              #1 DELI INC              31 DELI INC    2501188   \n\n  facility_type                address    zip  \n0    restaurant   4248 S WENTWORTH AVE  60609  \n1    restaurant         1907 W 87TH ST         \n2    restaurant  4307 W IRVING PARK RD  60641  \n3    restaurant  4307 W IRVING PARK RD  60641  \n4       grocery     6901 S NORMAL BLVD  60621  ",
      "text/html": "<div>\n<style scoped>\n    .dataframe tbody tr th:only-of-type {\n        vertical-align: middle;\n    }\n\n    .dataframe tbody tr th {\n        vertical-align: top;\n    }\n\n    .dataframe thead th {\n        text-align: right;\n    }\n</style>\n<table border=\"1\" class=\"dataframe\">\n  <thead>\n    <tr style=\"text-align: right;\">\n      <th></th>\n      <th>id</th>\n      <th>name_dba</th>\n      <th>name_aka</th>\n      <th>license_id</th>\n      <th>facility_type</th>\n      <th>address</th>\n      <th>zip</th>\n    </tr>\n  </thead>\n  <tbody>\n    <tr>\n      <th>0</th>\n      <td>0</td>\n      <td>#1 CHINA EXPRESS LTD</td>\n      <td>#1 CHINA EXPRESS  LTD</td>\n      <td>1869616</td>\n      <td>restaurant</td>\n      <td>4248 S WENTWORTH AVE</td>\n      <td>60609</td>\n    </tr>\n    <tr>\n      <th>1</th>\n      <td>1</td>\n      <td>#1 CHOP SUEY</td>\n      <td>#1 CHOP SUEY</td>\n      <td>2042372</td>\n      <td>restaurant</td>\n      <td>1907 W 87TH ST</td>\n      <td></td>\n    </tr>\n    <tr>\n      <th>2</th>\n      <td>2</td>\n      <td>#1 CHOP SUEY</td>\n      <td>#1 CHOP SUEY</td>\n      <td>1970042</td>\n      <td>restaurant</td>\n      <td>4307 W IRVING PARK RD</td>\n      <td>60641</td>\n    </tr>\n    <tr>\n      <th>3</th>\n      <td>3</td>\n      <td>#1 CHOP SUEY RESTAURANT</td>\n      <td>#1 CHOP SUEY RESTAURANT</td>\n      <td>1739799</td>\n      <td>restaurant</td>\n      <td>4307 W IRVING PARK RD</td>\n      <td>60641</td>\n    </tr>\n    <tr>\n      <th>4</th>\n      <td>4</td>\n      <td>#1 DELI INC</td>\n      <td>31 DELI INC</td>\n      <td>2501188</td>\n      <td>grocery</td>\n      <td>6901 S NORMAL BLVD</td>\n      <td>60621</td>\n    </tr>\n  </tbody>\n</table>\n</div>"
     },
     "execution_count": 64,
     "metadata": {},
     "output_type": "execute_result"
    }
   ],
   "source": [
    "facility_test = pd.read_sql_query('select * from facility limit 5;', con)\n",
    "facility_test"
   ]
  },
  {
   "cell_type": "code",
   "execution_count": 65,
   "metadata": {},
   "outputs": [
    {
     "data": {
      "text/plain": "                     street    zip     city state   latitude  longitude\n0        2121 S PRAIRIE AVE  60616  CHICAGO    IL  41.853651 -87.620534\n1         1025 W MADISON ST  60607  CHICAGO    IL  41.881572 -87.653052\n2          301 N JUSTINE ST  60607  CHICAGO    IL  41.886577 -87.665328\n3       2245 N MCVICKER AVE  60639  CHICAGO    IL  41.921675 -87.776711\n4  4355 S COTTAGE GROVE AVE  60653  CHICAGO    IL  41.815197 -87.606531",
      "text/html": "<div>\n<style scoped>\n    .dataframe tbody tr th:only-of-type {\n        vertical-align: middle;\n    }\n\n    .dataframe tbody tr th {\n        vertical-align: top;\n    }\n\n    .dataframe thead th {\n        text-align: right;\n    }\n</style>\n<table border=\"1\" class=\"dataframe\">\n  <thead>\n    <tr style=\"text-align: right;\">\n      <th></th>\n      <th>street</th>\n      <th>zip</th>\n      <th>city</th>\n      <th>state</th>\n      <th>latitude</th>\n      <th>longitude</th>\n    </tr>\n  </thead>\n  <tbody>\n    <tr>\n      <th>0</th>\n      <td>2121 S PRAIRIE AVE</td>\n      <td>60616</td>\n      <td>CHICAGO</td>\n      <td>IL</td>\n      <td>41.853651</td>\n      <td>-87.620534</td>\n    </tr>\n    <tr>\n      <th>1</th>\n      <td>1025 W MADISON ST</td>\n      <td>60607</td>\n      <td>CHICAGO</td>\n      <td>IL</td>\n      <td>41.881572</td>\n      <td>-87.653052</td>\n    </tr>\n    <tr>\n      <th>2</th>\n      <td>301 N JUSTINE ST</td>\n      <td>60607</td>\n      <td>CHICAGO</td>\n      <td>IL</td>\n      <td>41.886577</td>\n      <td>-87.665328</td>\n    </tr>\n    <tr>\n      <th>3</th>\n      <td>2245 N MCVICKER AVE</td>\n      <td>60639</td>\n      <td>CHICAGO</td>\n      <td>IL</td>\n      <td>41.921675</td>\n      <td>-87.776711</td>\n    </tr>\n    <tr>\n      <th>4</th>\n      <td>4355 S COTTAGE GROVE AVE</td>\n      <td>60653</td>\n      <td>CHICAGO</td>\n      <td>IL</td>\n      <td>41.815197</td>\n      <td>-87.606531</td>\n    </tr>\n  </tbody>\n</table>\n</div>"
     },
     "execution_count": 65,
     "metadata": {},
     "output_type": "execute_result"
    }
   ],
   "source": [
    "address_test = pd.read_sql_query('select * from address limit 5;', con)\n",
    "address_test"
   ]
  },
  {
   "cell_type": "code",
   "execution_count": 66,
   "metadata": {},
   "outputs": [
    {
     "data": {
      "text/plain": "  code   level\n0    0     All\n1    1    High\n2    2  Medium\n3    3     Low",
      "text/html": "<div>\n<style scoped>\n    .dataframe tbody tr th:only-of-type {\n        vertical-align: middle;\n    }\n\n    .dataframe tbody tr th {\n        vertical-align: top;\n    }\n\n    .dataframe thead th {\n        text-align: right;\n    }\n</style>\n<table border=\"1\" class=\"dataframe\">\n  <thead>\n    <tr style=\"text-align: right;\">\n      <th></th>\n      <th>code</th>\n      <th>level</th>\n    </tr>\n  </thead>\n  <tbody>\n    <tr>\n      <th>0</th>\n      <td>0</td>\n      <td>All</td>\n    </tr>\n    <tr>\n      <th>1</th>\n      <td>1</td>\n      <td>High</td>\n    </tr>\n    <tr>\n      <th>2</th>\n      <td>2</td>\n      <td>Medium</td>\n    </tr>\n    <tr>\n      <th>3</th>\n      <td>3</td>\n      <td>Low</td>\n    </tr>\n  </tbody>\n</table>\n</div>"
     },
     "execution_count": 66,
     "metadata": {},
     "output_type": "execute_result"
    }
   ],
   "source": [
    "risk_test = pd.read_sql_query('select * from risk limit 5;', con)\n",
    "risk_test"
   ]
  },
  {
   "cell_type": "code",
   "execution_count": 67,
   "metadata": {},
   "outputs": [
    {
     "data": {
      "text/plain": "  facility_id risk_code\n0           0         1\n1           1         1\n2           2         1\n3           3         1\n4           4         2",
      "text/html": "<div>\n<style scoped>\n    .dataframe tbody tr th:only-of-type {\n        vertical-align: middle;\n    }\n\n    .dataframe tbody tr th {\n        vertical-align: top;\n    }\n\n    .dataframe thead th {\n        text-align: right;\n    }\n</style>\n<table border=\"1\" class=\"dataframe\">\n  <thead>\n    <tr style=\"text-align: right;\">\n      <th></th>\n      <th>facility_id</th>\n      <th>risk_code</th>\n    </tr>\n  </thead>\n  <tbody>\n    <tr>\n      <th>0</th>\n      <td>0</td>\n      <td>1</td>\n    </tr>\n    <tr>\n      <th>1</th>\n      <td>1</td>\n      <td>1</td>\n    </tr>\n    <tr>\n      <th>2</th>\n      <td>2</td>\n      <td>1</td>\n    </tr>\n    <tr>\n      <th>3</th>\n      <td>3</td>\n      <td>1</td>\n    </tr>\n    <tr>\n      <th>4</th>\n      <td>4</td>\n      <td>2</td>\n    </tr>\n  </tbody>\n</table>\n</div>"
     },
     "execution_count": 67,
     "metadata": {},
     "output_type": "execute_result"
    }
   ],
   "source": [
    "facility_risk_test = pd.read_sql_query('select * from facility_risk limit 5;', con)\n",
    "facility_risk_test"
   ]
  },
  {
   "cell_type": "code",
   "execution_count": 68,
   "metadata": {},
   "outputs": [
    {
     "data": {
      "text/plain": "      id        date                   type result\n0  67732  2010-01-04  license re-inspection   Pass\n1  67733  2010-01-04  license re-inspection   Pass\n2  52234  2010-01-04  license re-inspection   Pass\n3  67757  2010-01-04            tag removal   Pass\n4  70269  2010-01-04  license re-inspection   Pass",
      "text/html": "<div>\n<style scoped>\n    .dataframe tbody tr th:only-of-type {\n        vertical-align: middle;\n    }\n\n    .dataframe tbody tr th {\n        vertical-align: top;\n    }\n\n    .dataframe thead th {\n        text-align: right;\n    }\n</style>\n<table border=\"1\" class=\"dataframe\">\n  <thead>\n    <tr style=\"text-align: right;\">\n      <th></th>\n      <th>id</th>\n      <th>date</th>\n      <th>type</th>\n      <th>result</th>\n    </tr>\n  </thead>\n  <tbody>\n    <tr>\n      <th>0</th>\n      <td>67732</td>\n      <td>2010-01-04</td>\n      <td>license re-inspection</td>\n      <td>Pass</td>\n    </tr>\n    <tr>\n      <th>1</th>\n      <td>67733</td>\n      <td>2010-01-04</td>\n      <td>license re-inspection</td>\n      <td>Pass</td>\n    </tr>\n    <tr>\n      <th>2</th>\n      <td>52234</td>\n      <td>2010-01-04</td>\n      <td>license re-inspection</td>\n      <td>Pass</td>\n    </tr>\n    <tr>\n      <th>3</th>\n      <td>67757</td>\n      <td>2010-01-04</td>\n      <td>tag removal</td>\n      <td>Pass</td>\n    </tr>\n    <tr>\n      <th>4</th>\n      <td>70269</td>\n      <td>2010-01-04</td>\n      <td>license re-inspection</td>\n      <td>Pass</td>\n    </tr>\n  </tbody>\n</table>\n</div>"
     },
     "execution_count": 68,
     "metadata": {},
     "output_type": "execute_result"
    }
   ],
   "source": [
    "inspection_test = pd.read_sql_query('select * from inspection limit 5;', con)\n",
    "inspection_test"
   ]
  },
  {
   "cell_type": "code",
   "execution_count": 69,
   "metadata": {},
   "outputs": [
    {
     "data": {
      "text/plain": "  facility_id inspection_id\n0           0        467259\n1           0       1285263\n2           1       1296904\n3           1       1395782\n4           1        277104",
      "text/html": "<div>\n<style scoped>\n    .dataframe tbody tr th:only-of-type {\n        vertical-align: middle;\n    }\n\n    .dataframe tbody tr th {\n        vertical-align: top;\n    }\n\n    .dataframe thead th {\n        text-align: right;\n    }\n</style>\n<table border=\"1\" class=\"dataframe\">\n  <thead>\n    <tr style=\"text-align: right;\">\n      <th></th>\n      <th>facility_id</th>\n      <th>inspection_id</th>\n    </tr>\n  </thead>\n  <tbody>\n    <tr>\n      <th>0</th>\n      <td>0</td>\n      <td>467259</td>\n    </tr>\n    <tr>\n      <th>1</th>\n      <td>0</td>\n      <td>1285263</td>\n    </tr>\n    <tr>\n      <th>2</th>\n      <td>1</td>\n      <td>1296904</td>\n    </tr>\n    <tr>\n      <th>3</th>\n      <td>1</td>\n      <td>1395782</td>\n    </tr>\n    <tr>\n      <th>4</th>\n      <td>1</td>\n      <td>277104</td>\n    </tr>\n  </tbody>\n</table>\n</div>"
     },
     "execution_count": 69,
     "metadata": {},
     "output_type": "execute_result"
    }
   ],
   "source": [
    "facility_inspection_test = pd.read_sql_query('select * from facility_inspection limit 5;', con)\n",
    "facility_inspection_test"
   ]
  },
  {
   "cell_type": "code",
   "execution_count": 70,
   "metadata": {},
   "outputs": [
    {
     "data": {
      "text/plain": "  code                                        description\n0    1  SOURCE SOUND CONDITION, NO SPOILAGE, FOODS PRO...\n1    2          FACILITIES TO MAINTAIN PROPER TEMPERATURE\n2    3  POTENTIALLY HAZARDOUS FOOD MEETS TEMPERATURE R...\n3    4  SOURCE OF CROSS CONTAMINATION CONTROLLED I.E. ...\n4    5  PERSONNEL WITH INFECTIONS RESTRICTED: NO OPEN ...",
      "text/html": "<div>\n<style scoped>\n    .dataframe tbody tr th:only-of-type {\n        vertical-align: middle;\n    }\n\n    .dataframe tbody tr th {\n        vertical-align: top;\n    }\n\n    .dataframe thead th {\n        text-align: right;\n    }\n</style>\n<table border=\"1\" class=\"dataframe\">\n  <thead>\n    <tr style=\"text-align: right;\">\n      <th></th>\n      <th>code</th>\n      <th>description</th>\n    </tr>\n  </thead>\n  <tbody>\n    <tr>\n      <th>0</th>\n      <td>1</td>\n      <td>SOURCE SOUND CONDITION, NO SPOILAGE, FOODS PRO...</td>\n    </tr>\n    <tr>\n      <th>1</th>\n      <td>2</td>\n      <td>FACILITIES TO MAINTAIN PROPER TEMPERATURE</td>\n    </tr>\n    <tr>\n      <th>2</th>\n      <td>3</td>\n      <td>POTENTIALLY HAZARDOUS FOOD MEETS TEMPERATURE R...</td>\n    </tr>\n    <tr>\n      <th>3</th>\n      <td>4</td>\n      <td>SOURCE OF CROSS CONTAMINATION CONTROLLED I.E. ...</td>\n    </tr>\n    <tr>\n      <th>4</th>\n      <td>5</td>\n      <td>PERSONNEL WITH INFECTIONS RESTRICTED: NO OPEN ...</td>\n    </tr>\n  </tbody>\n</table>\n</div>"
     },
     "execution_count": 70,
     "metadata": {},
     "output_type": "execute_result"
    }
   ],
   "source": [
    "violation_test = pd.read_sql_query('select * from violation limit 5;', con)\n",
    "violation_test"
   ]
  },
  {
   "cell_type": "code",
   "execution_count": 71,
   "metadata": {},
   "outputs": [
    {
     "data": {
      "text/plain": "  inspection_id violation_code  \\\n0         44247             30   \n1         44247             32   \n2         44247             33   \n3         44247             34   \n4         44247             37   \n\n                                   violation_comment  \n0  All food not stored in the original container ...  \n1  OBSERVED TORN DOOR GASKET ON DOOR OF 'CHILL IS...  \n2  All food and non-food contact surfaces of equi...  \n3  The floors shall be constructed per code, be s...  \n4  Toilet rooms shall be completely enclosed and ...  ",
      "text/html": "<div>\n<style scoped>\n    .dataframe tbody tr th:only-of-type {\n        vertical-align: middle;\n    }\n\n    .dataframe tbody tr th {\n        vertical-align: top;\n    }\n\n    .dataframe thead th {\n        text-align: right;\n    }\n</style>\n<table border=\"1\" class=\"dataframe\">\n  <thead>\n    <tr style=\"text-align: right;\">\n      <th></th>\n      <th>inspection_id</th>\n      <th>violation_code</th>\n      <th>violation_comment</th>\n    </tr>\n  </thead>\n  <tbody>\n    <tr>\n      <th>0</th>\n      <td>44247</td>\n      <td>30</td>\n      <td>All food not stored in the original container ...</td>\n    </tr>\n    <tr>\n      <th>1</th>\n      <td>44247</td>\n      <td>32</td>\n      <td>OBSERVED TORN DOOR GASKET ON DOOR OF 'CHILL IS...</td>\n    </tr>\n    <tr>\n      <th>2</th>\n      <td>44247</td>\n      <td>33</td>\n      <td>All food and non-food contact surfaces of equi...</td>\n    </tr>\n    <tr>\n      <th>3</th>\n      <td>44247</td>\n      <td>34</td>\n      <td>The floors shall be constructed per code, be s...</td>\n    </tr>\n    <tr>\n      <th>4</th>\n      <td>44247</td>\n      <td>37</td>\n      <td>Toilet rooms shall be completely enclosed and ...</td>\n    </tr>\n  </tbody>\n</table>\n</div>"
     },
     "execution_count": 71,
     "metadata": {},
     "output_type": "execute_result"
    }
   ],
   "source": [
    "inspection_violation_test = pd.read_sql_query('select * from inspection_violation limit 5;', con)\n",
    "inspection_violation_test"
   ]
  },
  {
   "cell_type": "markdown",
   "source": [
    "## 2. Comparison and Integrity Check\n",
    "\n",
    "This section compares the cleaned data with the original data."
   ],
   "metadata": {
    "collapsed": false,
    "pycharm": {
     "name": "#%% md\n"
    }
   }
  },
  {
   "cell_type": "markdown",
   "metadata": {
    "pycharm": {
     "name": "#%% md\n"
    }
   },
   "source": [
    "load the original data"
   ]
  },
  {
   "cell_type": "code",
   "execution_count": 72,
   "metadata": {},
   "outputs": [
    {
     "data": {
      "text/plain": "   Inspection ID                 DBA Name                 AKA Name  License #  \\\n0        2079132  MARRIOT MARQUIS CHICAGO  MARRIOT MARQUIS CHICAGO  2517328.0   \n1        2079129              JET'S PIZZA              JET'S PIZZA  2522268.0   \n2        2079125                ROOM 1520                ROOM 1520  2446638.0   \n3        2079123  MARRIOT MARQUIS CHICAGO  MARRIOT MARQUIS CHICAGO  2517338.0   \n4        2079105               CHARTWELLS  CICS WEST BELDEN CAMPUS  2549079.0   \n\n    Facility Type             Risk               Address     City State  \\\n0      Restaurant    Risk 1 (High)   2121 S PRAIRIE AVE   CHICAGO    IL   \n1      Restaurant  Risk 2 (Medium)    1025 W MADISON ST   CHICAGO    IL   \n2   Special Event     Risk 3 (Low)     301 N JUSTINE ST   CHICAGO    IL   \n3      Restaurant    Risk 1 (High)   2121 S PRAIRIE AVE   CHICAGO    IL   \n4  CHARTER SCHOOL    Risk 1 (High)  2245 N MCVICKER AVE   CHICAGO    IL   \n\n       Zip Inspection Date        Inspection Type    Results  \\\n0  60616.0      08/28/2017                License       Pass   \n1  60607.0      08/28/2017                License  Not Ready   \n2  60607.0      08/28/2017  License Re-Inspection  Not Ready   \n3  60616.0      08/28/2017                License       Pass   \n4  60639.0      08/28/2017  License Re-Inspection       Pass   \n\n                                          Violations   Latitude  Longitude  \\\n0                                                NaN  41.853651 -87.620534   \n1                                                NaN  41.881572 -87.653052   \n2  8. SANITIZING RINSE FOR EQUIPMENT AND UTENSILS...  41.886577 -87.665328   \n3  35. WALLS, CEILINGS, ATTACHED EQUIPMENT CONSTR...  41.853651 -87.620534   \n4  18. NO EVIDENCE OF RODENT OR INSECT OUTER OPEN...  41.921675 -87.776711   \n\n                                   Location  \n0  (41.853650885040594, -87.62053358114167)  \n1   (41.88157249576794, -87.65305233593274)  \n2   (41.88657652150854, -87.66532812140231)  \n3  (41.853650885040594, -87.62053358114167)  \n4   (41.921675488910864, -87.7767113569357)  ",
      "text/html": "<div>\n<style scoped>\n    .dataframe tbody tr th:only-of-type {\n        vertical-align: middle;\n    }\n\n    .dataframe tbody tr th {\n        vertical-align: top;\n    }\n\n    .dataframe thead th {\n        text-align: right;\n    }\n</style>\n<table border=\"1\" class=\"dataframe\">\n  <thead>\n    <tr style=\"text-align: right;\">\n      <th></th>\n      <th>Inspection ID</th>\n      <th>DBA Name</th>\n      <th>AKA Name</th>\n      <th>License #</th>\n      <th>Facility Type</th>\n      <th>Risk</th>\n      <th>Address</th>\n      <th>City</th>\n      <th>State</th>\n      <th>Zip</th>\n      <th>Inspection Date</th>\n      <th>Inspection Type</th>\n      <th>Results</th>\n      <th>Violations</th>\n      <th>Latitude</th>\n      <th>Longitude</th>\n      <th>Location</th>\n    </tr>\n  </thead>\n  <tbody>\n    <tr>\n      <th>0</th>\n      <td>2079132</td>\n      <td>MARRIOT MARQUIS CHICAGO</td>\n      <td>MARRIOT MARQUIS CHICAGO</td>\n      <td>2517328.0</td>\n      <td>Restaurant</td>\n      <td>Risk 1 (High)</td>\n      <td>2121 S PRAIRIE AVE</td>\n      <td>CHICAGO</td>\n      <td>IL</td>\n      <td>60616.0</td>\n      <td>08/28/2017</td>\n      <td>License</td>\n      <td>Pass</td>\n      <td>NaN</td>\n      <td>41.853651</td>\n      <td>-87.620534</td>\n      <td>(41.853650885040594, -87.62053358114167)</td>\n    </tr>\n    <tr>\n      <th>1</th>\n      <td>2079129</td>\n      <td>JET'S PIZZA</td>\n      <td>JET'S PIZZA</td>\n      <td>2522268.0</td>\n      <td>Restaurant</td>\n      <td>Risk 2 (Medium)</td>\n      <td>1025 W MADISON ST</td>\n      <td>CHICAGO</td>\n      <td>IL</td>\n      <td>60607.0</td>\n      <td>08/28/2017</td>\n      <td>License</td>\n      <td>Not Ready</td>\n      <td>NaN</td>\n      <td>41.881572</td>\n      <td>-87.653052</td>\n      <td>(41.88157249576794, -87.65305233593274)</td>\n    </tr>\n    <tr>\n      <th>2</th>\n      <td>2079125</td>\n      <td>ROOM 1520</td>\n      <td>ROOM 1520</td>\n      <td>2446638.0</td>\n      <td>Special Event</td>\n      <td>Risk 3 (Low)</td>\n      <td>301 N JUSTINE ST</td>\n      <td>CHICAGO</td>\n      <td>IL</td>\n      <td>60607.0</td>\n      <td>08/28/2017</td>\n      <td>License Re-Inspection</td>\n      <td>Not Ready</td>\n      <td>8. SANITIZING RINSE FOR EQUIPMENT AND UTENSILS...</td>\n      <td>41.886577</td>\n      <td>-87.665328</td>\n      <td>(41.88657652150854, -87.66532812140231)</td>\n    </tr>\n    <tr>\n      <th>3</th>\n      <td>2079123</td>\n      <td>MARRIOT MARQUIS CHICAGO</td>\n      <td>MARRIOT MARQUIS CHICAGO</td>\n      <td>2517338.0</td>\n      <td>Restaurant</td>\n      <td>Risk 1 (High)</td>\n      <td>2121 S PRAIRIE AVE</td>\n      <td>CHICAGO</td>\n      <td>IL</td>\n      <td>60616.0</td>\n      <td>08/28/2017</td>\n      <td>License</td>\n      <td>Pass</td>\n      <td>35. WALLS, CEILINGS, ATTACHED EQUIPMENT CONSTR...</td>\n      <td>41.853651</td>\n      <td>-87.620534</td>\n      <td>(41.853650885040594, -87.62053358114167)</td>\n    </tr>\n    <tr>\n      <th>4</th>\n      <td>2079105</td>\n      <td>CHARTWELLS</td>\n      <td>CICS WEST BELDEN CAMPUS</td>\n      <td>2549079.0</td>\n      <td>CHARTER SCHOOL</td>\n      <td>Risk 1 (High)</td>\n      <td>2245 N MCVICKER AVE</td>\n      <td>CHICAGO</td>\n      <td>IL</td>\n      <td>60639.0</td>\n      <td>08/28/2017</td>\n      <td>License Re-Inspection</td>\n      <td>Pass</td>\n      <td>18. NO EVIDENCE OF RODENT OR INSECT OUTER OPEN...</td>\n      <td>41.921675</td>\n      <td>-87.776711</td>\n      <td>(41.921675488910864, -87.7767113569357)</td>\n    </tr>\n  </tbody>\n</table>\n</div>"
     },
     "execution_count": 72,
     "metadata": {},
     "output_type": "execute_result"
    }
   ],
   "source": [
    "orig_data = pd.read_csv(\"data/original/Food_Inspections.csv\")\n",
    "orig_data.head()\n"
   ]
  },
  {
   "cell_type": "markdown",
   "metadata": {
    "pycharm": {
     "name": "#%% md\n"
    }
   },
   "source": [
    "### 1. Address Integrity Check\n",
    "#### 1. City\n",
    "The original data have un-uniformed format , and have lots of invalid city names such as 'CCHICAGO', 'CHICAGOCHICAGO', 'CHCHICAGO', 'CHICAGOI', 'CHCICAGO', '312CHICAGO'."
   ]
  },
  {
   "cell_type": "code",
   "execution_count": 73,
   "metadata": {},
   "outputs": [
    {
     "data": {
      "text/plain": "CHICAGO                 153090\nChicago                    258\nchicago                     77\nCCHICAGO                    39\nSCHAUMBURG                  18\nMAYWOOD                     14\nELK GROVE VILLAGE           12\nCHicago                     10\nSKOKIE                       8\nINACTIVE                     8\nCHESTNUT STREET              8\nEVANSTON                     7\nCICERO                       6\nCHICAGOCHICAGO               6\nCHCHICAGO                    6\nCHARLES A HAYES              6\nWORTH                        5\nELMHURST                     5\nOAK PARK                     4\nCALUMET CITY                 4\nSUMMIT                       4\nEAST HAZEL CREST             3\nALSIP                        3\nCHICAGOI                     3\nNILES NILES                  3\nCHCICAGO                     3\nSCHILLER PARK                3\nCHICAGO HEIGHTS              2\nBERWYN                       2\nBLUE ISLAND                  2\nSTREAMWOOD                   2\nNAPERVILLE                   2\n312CHICAGO                   2\nBEDFORD PARK                 2\nBANNOCKBURNDEERFIELD         2\nBROADVIEW                    1\nLAKE ZURICH                  1\nFRANKFORT                    1\nMaywood                      1\nGLENCOE                      1\nLAKE BLUFF                   1\nOAK LAWN                     1\nalsip                        1\nOLYMPIA FIELDS               1\nBLOOMINGDALE                 1\nDES PLAINES                  1\nBURNHAM                      1\nNorridge                     1\nBOLINGBROOK                  1\nCOUNTRY CLUB HILLS           1\nLOMBARD                      1\nTINLEY PARK                  1\nJUSTICE                      1\nWESTMONT                     1\nOOLYMPIA FIELDS              1\nBRIDEVIEW                    1\nEVERGREEN PARK               1\nName: City, dtype: int64"
     },
     "execution_count": 73,
     "metadata": {},
     "output_type": "execute_result"
    }
   ],
   "source": [
    "address_city_original = orig_data['City'].value_counts()\n",
    "address_city_original"
   ]
  },
  {
   "cell_type": "markdown",
   "metadata": {
    "pycharm": {
     "name": "#%% md\n"
    }
   },
   "source": [
    "The cleaned city column have uniform upper case format.\n",
    "And invalid city names are cleaned."
   ]
  },
  {
   "cell_type": "code",
   "metadata": {
    "pycharm": {
     "name": "#%%\n"
    }
   },
   "source": [
    "address_city_integrity = pd.read_sql_query('select city from address where city != \"\" group by city;', con)\n",
    "address_city_integrity\n"
   ],
   "execution_count": 74,
   "outputs": [
    {
     "data": {
      "text/plain": "                    city\n0                  ALSIP\n1   BANNOCKBURNDEERFIELD\n2                 BERWYN\n3           BLOOMINGDALE\n4            BLUE ISLAND\n5            BOLINGBROOK\n6              BRIDEVIEW\n7              BROADVIEW\n8           CALUMET CITY\n9                CHICAGO\n10       CHICAGO HEIGHTS\n11                CICERO\n12    COUNTRY CLUB HILLS\n13           DES PLAINES\n14      EAST HAZEL CREST\n15     ELK GROVE VILLAGE\n16              ELMHURST\n17              EVANSTON\n18        EVERGREEN PARK\n19             FRANKFORT\n20               GLENCOE\n21               JUSTICE\n22            LAKE BLUFF\n23           LAKE ZURICH\n24               LOMBARD\n25               MAYWOOD\n26            NAPERVILLE\n27           NILES NILES\n28              NORRIDGE\n29              OAK LAWN\n30              OAK PARK\n31        OLYMPIA FIELDS\n32            SCHAUMBURG\n33         SCHILLER PARK\n34                SKOKIE\n35            STREAMWOOD\n36                SUMMIT\n37           TINLEY PARK\n38                 WORTH",
      "text/html": "<div>\n<style scoped>\n    .dataframe tbody tr th:only-of-type {\n        vertical-align: middle;\n    }\n\n    .dataframe tbody tr th {\n        vertical-align: top;\n    }\n\n    .dataframe thead th {\n        text-align: right;\n    }\n</style>\n<table border=\"1\" class=\"dataframe\">\n  <thead>\n    <tr style=\"text-align: right;\">\n      <th></th>\n      <th>city</th>\n    </tr>\n  </thead>\n  <tbody>\n    <tr>\n      <th>0</th>\n      <td>ALSIP</td>\n    </tr>\n    <tr>\n      <th>1</th>\n      <td>BANNOCKBURNDEERFIELD</td>\n    </tr>\n    <tr>\n      <th>2</th>\n      <td>BERWYN</td>\n    </tr>\n    <tr>\n      <th>3</th>\n      <td>BLOOMINGDALE</td>\n    </tr>\n    <tr>\n      <th>4</th>\n      <td>BLUE ISLAND</td>\n    </tr>\n    <tr>\n      <th>5</th>\n      <td>BOLINGBROOK</td>\n    </tr>\n    <tr>\n      <th>6</th>\n      <td>BRIDEVIEW</td>\n    </tr>\n    <tr>\n      <th>7</th>\n      <td>BROADVIEW</td>\n    </tr>\n    <tr>\n      <th>8</th>\n      <td>CALUMET CITY</td>\n    </tr>\n    <tr>\n      <th>9</th>\n      <td>CHICAGO</td>\n    </tr>\n    <tr>\n      <th>10</th>\n      <td>CHICAGO HEIGHTS</td>\n    </tr>\n    <tr>\n      <th>11</th>\n      <td>CICERO</td>\n    </tr>\n    <tr>\n      <th>12</th>\n      <td>COUNTRY CLUB HILLS</td>\n    </tr>\n    <tr>\n      <th>13</th>\n      <td>DES PLAINES</td>\n    </tr>\n    <tr>\n      <th>14</th>\n      <td>EAST HAZEL CREST</td>\n    </tr>\n    <tr>\n      <th>15</th>\n      <td>ELK GROVE VILLAGE</td>\n    </tr>\n    <tr>\n      <th>16</th>\n      <td>ELMHURST</td>\n    </tr>\n    <tr>\n      <th>17</th>\n      <td>EVANSTON</td>\n    </tr>\n    <tr>\n      <th>18</th>\n      <td>EVERGREEN PARK</td>\n    </tr>\n    <tr>\n      <th>19</th>\n      <td>FRANKFORT</td>\n    </tr>\n    <tr>\n      <th>20</th>\n      <td>GLENCOE</td>\n    </tr>\n    <tr>\n      <th>21</th>\n      <td>JUSTICE</td>\n    </tr>\n    <tr>\n      <th>22</th>\n      <td>LAKE BLUFF</td>\n    </tr>\n    <tr>\n      <th>23</th>\n      <td>LAKE ZURICH</td>\n    </tr>\n    <tr>\n      <th>24</th>\n      <td>LOMBARD</td>\n    </tr>\n    <tr>\n      <th>25</th>\n      <td>MAYWOOD</td>\n    </tr>\n    <tr>\n      <th>26</th>\n      <td>NAPERVILLE</td>\n    </tr>\n    <tr>\n      <th>27</th>\n      <td>NILES NILES</td>\n    </tr>\n    <tr>\n      <th>28</th>\n      <td>NORRIDGE</td>\n    </tr>\n    <tr>\n      <th>29</th>\n      <td>OAK LAWN</td>\n    </tr>\n    <tr>\n      <th>30</th>\n      <td>OAK PARK</td>\n    </tr>\n    <tr>\n      <th>31</th>\n      <td>OLYMPIA FIELDS</td>\n    </tr>\n    <tr>\n      <th>32</th>\n      <td>SCHAUMBURG</td>\n    </tr>\n    <tr>\n      <th>33</th>\n      <td>SCHILLER PARK</td>\n    </tr>\n    <tr>\n      <th>34</th>\n      <td>SKOKIE</td>\n    </tr>\n    <tr>\n      <th>35</th>\n      <td>STREAMWOOD</td>\n    </tr>\n    <tr>\n      <th>36</th>\n      <td>SUMMIT</td>\n    </tr>\n    <tr>\n      <th>37</th>\n      <td>TINLEY PARK</td>\n    </tr>\n    <tr>\n      <th>38</th>\n      <td>WORTH</td>\n    </tr>\n  </tbody>\n</table>\n</div>"
     },
     "execution_count": 74,
     "metadata": {},
     "output_type": "execute_result"
    }
   ]
  },
  {
   "cell_type": "markdown",
   "metadata": {
    "pycharm": {
     "name": "#%% md\n"
    }
   },
   "source": [
    "#### 2. Duplicate address for the same location"
   ]
  },
  {
   "cell_type": "markdown",
   "source": [
    "In the original data, there are different variations of addresses for the same location (latitude & longitude) and city/state/zip:"
   ],
   "metadata": {
    "collapsed": false
   }
  },
  {
   "cell_type": "code",
   "execution_count": 75,
   "outputs": [
    {
     "data": {
      "text/plain": "                      Address   Latitude  Longitude\n115964      1636 W Howard ST   42.019491 -87.672224\n6882        1636 W HOWARD ST   42.019491 -87.672224\n83917     1632 W howard BLDG   42.019490 -87.672057\n25889       1632 W HOWARD ST   42.019490 -87.672057\n77277      7410 N clark BLDG   42.016328 -87.675398\n...                       ...        ...        ...\n37884     12201 S HALSTED ST   41.672270 -87.641576\n136481    12760 S Halsted ST   41.661467 -87.641508\n69411     12760 S HALSTED ST   41.661467 -87.641508\n100604  13703 S Indiana BLDG   41.646554 -87.617083\n100601   13703 S INDIANA AVE   41.646554 -87.617083\n\n[1883 rows x 3 columns]",
      "text/html": "<div>\n<style scoped>\n    .dataframe tbody tr th:only-of-type {\n        vertical-align: middle;\n    }\n\n    .dataframe tbody tr th {\n        vertical-align: top;\n    }\n\n    .dataframe thead th {\n        text-align: right;\n    }\n</style>\n<table border=\"1\" class=\"dataframe\">\n  <thead>\n    <tr style=\"text-align: right;\">\n      <th></th>\n      <th>Address</th>\n      <th>Latitude</th>\n      <th>Longitude</th>\n    </tr>\n  </thead>\n  <tbody>\n    <tr>\n      <th>115964</th>\n      <td>1636 W Howard ST</td>\n      <td>42.019491</td>\n      <td>-87.672224</td>\n    </tr>\n    <tr>\n      <th>6882</th>\n      <td>1636 W HOWARD ST</td>\n      <td>42.019491</td>\n      <td>-87.672224</td>\n    </tr>\n    <tr>\n      <th>83917</th>\n      <td>1632 W howard BLDG</td>\n      <td>42.019490</td>\n      <td>-87.672057</td>\n    </tr>\n    <tr>\n      <th>25889</th>\n      <td>1632 W HOWARD ST</td>\n      <td>42.019490</td>\n      <td>-87.672057</td>\n    </tr>\n    <tr>\n      <th>77277</th>\n      <td>7410 N clark BLDG</td>\n      <td>42.016328</td>\n      <td>-87.675398</td>\n    </tr>\n    <tr>\n      <th>...</th>\n      <td>...</td>\n      <td>...</td>\n      <td>...</td>\n    </tr>\n    <tr>\n      <th>37884</th>\n      <td>12201 S HALSTED ST</td>\n      <td>41.672270</td>\n      <td>-87.641576</td>\n    </tr>\n    <tr>\n      <th>136481</th>\n      <td>12760 S Halsted ST</td>\n      <td>41.661467</td>\n      <td>-87.641508</td>\n    </tr>\n    <tr>\n      <th>69411</th>\n      <td>12760 S HALSTED ST</td>\n      <td>41.661467</td>\n      <td>-87.641508</td>\n    </tr>\n    <tr>\n      <th>100604</th>\n      <td>13703 S Indiana BLDG</td>\n      <td>41.646554</td>\n      <td>-87.617083</td>\n    </tr>\n    <tr>\n      <th>100601</th>\n      <td>13703 S INDIANA AVE</td>\n      <td>41.646554</td>\n      <td>-87.617083</td>\n    </tr>\n  </tbody>\n</table>\n<p>1883 rows × 3 columns</p>\n</div>"
     },
     "execution_count": 75,
     "metadata": {},
     "output_type": "execute_result"
    }
   ],
   "source": [
    "temp = orig_data[['Address', 'Latitude', 'Longitude']].drop_duplicates()\n",
    "address_duplicated_original = temp.groupby(\n",
    "    by=['Latitude', 'Longitude'], dropna=False)\\\n",
    "    .filter(lambda x: len(x) > 1).sort_values(by=['Latitude', 'Address'], ascending=False)\n",
    "\n",
    "address_duplicated_original\n",
    "#with pd.option_context('display.max_rows', None, 'display.max_columns', None):\n",
    "#    display(address_duplicated)"
   ],
   "metadata": {
    "collapsed": false,
    "pycharm": {
     "name": "#%%\n"
    }
   }
  },
  {
   "cell_type": "markdown",
   "metadata": {
    "pycharm": {
     "name": "#%% md\n"
    }
   },
   "source": [
    "The cleaned data shall have unique address, latitude and longitude. The following query checks if we can duplicated addresses."
   ]
  },
  {
   "cell_type": "code",
   "execution_count": 76,
   "outputs": [
    {
     "data": {
      "text/plain": "Empty DataFrame\nColumns: [street, latitude, longitude, count(*)]\nIndex: []",
      "text/html": "<div>\n<style scoped>\n    .dataframe tbody tr th:only-of-type {\n        vertical-align: middle;\n    }\n\n    .dataframe tbody tr th {\n        vertical-align: top;\n    }\n\n    .dataframe thead th {\n        text-align: right;\n    }\n</style>\n<table border=\"1\" class=\"dataframe\">\n  <thead>\n    <tr style=\"text-align: right;\">\n      <th></th>\n      <th>street</th>\n      <th>latitude</th>\n      <th>longitude</th>\n      <th>count(*)</th>\n    </tr>\n  </thead>\n  <tbody>\n  </tbody>\n</table>\n</div>"
     },
     "execution_count": 76,
     "metadata": {},
     "output_type": "execute_result"
    }
   ],
   "source": [
    "address_count_cleaned = pd.read_sql_query\\\n",
    "    ('select street, latitude, longitude, count(*) from address where street != \"\" group by street, latitude, longitude  having count(*) > 1;', con)\n",
    "address_count_cleaned\n"
   ],
   "metadata": {
    "collapsed": false,
    "pycharm": {
     "name": "#%%\n"
    }
   }
  },
  {
   "cell_type": "markdown",
   "source": [
    "#### 3. City Inference\n",
    "\n",
    "In the original data, same latitude and longitude have conflict city names.\n",
    "- Some locations have a certain city and \"NaN\". We inferred the missing NaN value for this scenario.\n",
    "- For Some locations that have conflict city names. We chose the one with a higher count.\n",
    "We inferred the missing NaN"
   ],
   "metadata": {
    "collapsed": false,
    "pycharm": {
     "name": "#%% md\n"
    }
   }
  },
  {
   "cell_type": "code",
   "execution_count": 77,
   "outputs": [
    {
     "data": {
      "text/plain": "        Latitude  Longitude      City  count\n15705  42.008536 -87.914428   CHICAGO   1874\n15706  42.008536 -87.914428       NaN     10\n15299  41.997452 -87.687581   CHICAGO      3\n15300  41.997452 -87.687581  CHICAGOI      3\n14856  41.985066 -87.668949   CHICAGO     11\n...          ...        ...       ...    ...\n1719   41.751592 -87.568606       NaN      1\n1629   41.751030 -87.613649   CHICAGO      5\n1630   41.751030 -87.613649       NaN      1\n1426   41.746236 -87.643766       NaN     12\n1425   41.746236 -87.643766   CHICAGO      1\n\n[90 rows x 4 columns]",
      "text/html": "<div>\n<style scoped>\n    .dataframe tbody tr th:only-of-type {\n        vertical-align: middle;\n    }\n\n    .dataframe tbody tr th {\n        vertical-align: top;\n    }\n\n    .dataframe thead th {\n        text-align: right;\n    }\n</style>\n<table border=\"1\" class=\"dataframe\">\n  <thead>\n    <tr style=\"text-align: right;\">\n      <th></th>\n      <th>Latitude</th>\n      <th>Longitude</th>\n      <th>City</th>\n      <th>count</th>\n    </tr>\n  </thead>\n  <tbody>\n    <tr>\n      <th>15705</th>\n      <td>42.008536</td>\n      <td>-87.914428</td>\n      <td>CHICAGO</td>\n      <td>1874</td>\n    </tr>\n    <tr>\n      <th>15706</th>\n      <td>42.008536</td>\n      <td>-87.914428</td>\n      <td>NaN</td>\n      <td>10</td>\n    </tr>\n    <tr>\n      <th>15299</th>\n      <td>41.997452</td>\n      <td>-87.687581</td>\n      <td>CHICAGO</td>\n      <td>3</td>\n    </tr>\n    <tr>\n      <th>15300</th>\n      <td>41.997452</td>\n      <td>-87.687581</td>\n      <td>CHICAGOI</td>\n      <td>3</td>\n    </tr>\n    <tr>\n      <th>14856</th>\n      <td>41.985066</td>\n      <td>-87.668949</td>\n      <td>CHICAGO</td>\n      <td>11</td>\n    </tr>\n    <tr>\n      <th>...</th>\n      <td>...</td>\n      <td>...</td>\n      <td>...</td>\n      <td>...</td>\n    </tr>\n    <tr>\n      <th>1719</th>\n      <td>41.751592</td>\n      <td>-87.568606</td>\n      <td>NaN</td>\n      <td>1</td>\n    </tr>\n    <tr>\n      <th>1629</th>\n      <td>41.751030</td>\n      <td>-87.613649</td>\n      <td>CHICAGO</td>\n      <td>5</td>\n    </tr>\n    <tr>\n      <th>1630</th>\n      <td>41.751030</td>\n      <td>-87.613649</td>\n      <td>NaN</td>\n      <td>1</td>\n    </tr>\n    <tr>\n      <th>1426</th>\n      <td>41.746236</td>\n      <td>-87.643766</td>\n      <td>NaN</td>\n      <td>12</td>\n    </tr>\n    <tr>\n      <th>1425</th>\n      <td>41.746236</td>\n      <td>-87.643766</td>\n      <td>CHICAGO</td>\n      <td>1</td>\n    </tr>\n  </tbody>\n</table>\n<p>90 rows × 4 columns</p>\n</div>"
     },
     "execution_count": 77,
     "metadata": {},
     "output_type": "execute_result"
    }
   ],
   "source": [
    "temp = orig_data.groupby(by=['Latitude', 'Longitude', 'City'], dropna=False).size().rename('count').reset_index()\n",
    "duplicated_city = temp.groupby(by=['Latitude', 'Longitude'], dropna=False)\\\n",
    "    .filter(lambda x: len(x) > 1).sort_values(by=['Latitude', 'Longitude', 'count'], ascending=False)\n",
    "duplicated_city"
   ],
   "metadata": {
    "collapsed": false,
    "pycharm": {
     "name": "#%%\n"
    }
   }
  },
  {
   "cell_type": "markdown",
   "source": [
    "The cleaned data shows no duplicates:"
   ],
   "metadata": {
    "collapsed": false,
    "pycharm": {
     "name": "#%% md\n"
    }
   }
  },
  {
   "cell_type": "code",
   "execution_count": 78,
   "outputs": [
    {
     "data": {
      "text/plain": "Empty DataFrame\nColumns: [city, latitude, longitude, count(*)]\nIndex: []",
      "text/html": "<div>\n<style scoped>\n    .dataframe tbody tr th:only-of-type {\n        vertical-align: middle;\n    }\n\n    .dataframe tbody tr th {\n        vertical-align: top;\n    }\n\n    .dataframe thead th {\n        text-align: right;\n    }\n</style>\n<table border=\"1\" class=\"dataframe\">\n  <thead>\n    <tr style=\"text-align: right;\">\n      <th></th>\n      <th>city</th>\n      <th>latitude</th>\n      <th>longitude</th>\n      <th>count(*)</th>\n    </tr>\n  </thead>\n  <tbody>\n  </tbody>\n</table>\n</div>"
     },
     "execution_count": 78,
     "metadata": {},
     "output_type": "execute_result"
    }
   ],
   "source": [
    "city_count_cleaned = pd.read_sql_query\\\n",
    "    ('select city, latitude, longitude, count(*) from address where street != \"\" group by street, latitude, longitude  having count(*) > 1;', con)\n",
    "city_count_cleaned"
   ],
   "metadata": {
    "collapsed": false,
    "pycharm": {
     "name": "#%%\n"
    }
   }
  },
  {
   "cell_type": "code",
   "execution_count": 77,
   "outputs": [],
   "source": [],
   "metadata": {
    "collapsed": false,
    "pycharm": {
     "name": "#%%\n"
    }
   }
  },
  {
   "cell_type": "code",
   "execution_count": 77,
   "outputs": [],
   "source": [],
   "metadata": {
    "collapsed": false,
    "pycharm": {
     "name": "#%%\n"
    }
   }
  },
  {
   "cell_type": "code",
   "execution_count": 77,
   "outputs": [],
   "source": [],
   "metadata": {
    "collapsed": false,
    "pycharm": {
     "name": "#%%\n"
    }
   }
  },
  {
   "cell_type": "code",
   "execution_count": 77,
   "outputs": [],
   "source": [],
   "metadata": {
    "collapsed": false,
    "pycharm": {
     "name": "#%%\n"
    }
   }
  },
  {
   "cell_type": "code",
   "execution_count": 77,
   "outputs": [],
   "source": [],
   "metadata": {
    "collapsed": false,
    "pycharm": {
     "name": "#%%\n"
    }
   }
  },
  {
   "cell_type": "code",
   "execution_count": 77,
   "outputs": [],
   "source": [],
   "metadata": {
    "collapsed": false,
    "pycharm": {
     "name": "#%%\n"
    }
   }
  },
  {
   "cell_type": "code",
   "execution_count": 77,
   "outputs": [],
   "source": [],
   "metadata": {
    "collapsed": false,
    "pycharm": {
     "name": "#%%\n"
    }
   }
  },
  {
   "cell_type": "code",
   "execution_count": 77,
   "outputs": [],
   "source": [],
   "metadata": {
    "collapsed": false,
    "pycharm": {
     "name": "#%%\n"
    }
   }
  },
  {
   "cell_type": "code",
   "execution_count": 77,
   "outputs": [],
   "source": [],
   "metadata": {
    "collapsed": false,
    "pycharm": {
     "name": "#%%\n"
    }
   }
  }
 ],
 "metadata": {
  "kernelspec": {
   "display_name": "Python 3",
   "language": "python",
   "name": "python3"
  },
  "language_info": {
   "codemirror_mode": {
    "name": "ipython",
    "version": 3
   },
   "file_extension": ".py",
   "mimetype": "text/x-python",
   "name": "python",
   "nbconvert_exporter": "python",
   "pygments_lexer": "ipython3",
   "version": "3.7.6"
  }
 },
 "nbformat": 4,
 "nbformat_minor": 1
}